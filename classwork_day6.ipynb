{
 "cells": [
  {
   "cell_type": "code",
   "execution_count": null,
   "id": "initial_id",
   "metadata": {
    "collapsed": true
   },
   "outputs": [],
   "source": "# Comprehensions"
  },
  {
   "metadata": {
    "ExecuteTime": {
     "end_time": "2025-09-13T08:28:52.393788Z",
     "start_time": "2025-09-13T08:28:52.386256Z"
    }
   },
   "cell_type": "code",
   "source": [
    "numbers = [i for i in range(1, 11)]\n",
    "print(numbers)"
   ],
   "id": "36a680c165769a89",
   "outputs": [
    {
     "name": "stdout",
     "output_type": "stream",
     "text": [
      "[1, 2, 3, 4, 5, 6, 7, 8, 9]\n"
     ]
    }
   ],
   "execution_count": 2
  },
  {
   "metadata": {
    "ExecuteTime": {
     "end_time": "2025-09-13T08:29:45.707473Z",
     "start_time": "2025-09-13T08:29:45.699756Z"
    }
   },
   "cell_type": "code",
   "source": [
    "evens = {i for i in range(1, 51) if i % 2 == 0}\n",
    "print(evens)"
   ],
   "id": "ea5723572690cd1a",
   "outputs": [
    {
     "name": "stdout",
     "output_type": "stream",
     "text": [
      "{2, 4, 6, 8, 10, 12, 14, 16, 18, 20, 22, 24, 26, 28, 30, 32, 34, 36, 38, 40, 42, 44, 46, 48, 50}\n"
     ]
    }
   ],
   "execution_count": 3
  },
  {
   "metadata": {
    "ExecuteTime": {
     "end_time": "2025-09-13T08:31:08.861538Z",
     "start_time": "2025-09-13T08:31:08.853669Z"
    }
   },
   "cell_type": "code",
   "source": [
    "isOdd = lambda n : n % 2 != 0\n",
    "odds = (i for i in range(51, 101) if isOdd(i))\n",
    "print(odds)\n",
    "print(list(odds))"
   ],
   "id": "b941b55e5902b01f",
   "outputs": [
    {
     "name": "stdout",
     "output_type": "stream",
     "text": [
      "<generator object <genexpr> at 0x7fa5c4136c20>\n",
      "[51, 53, 55, 57, 59, 61, 63, 65, 67, 69, 71, 73, 75, 77, 79, 81, 83, 85, 87, 89, 91, 93, 95, 97, 99]\n"
     ]
    }
   ],
   "execution_count": 6
  },
  {
   "metadata": {
    "ExecuteTime": {
     "end_time": "2025-09-13T08:32:22.283842Z",
     "start_time": "2025-09-13T08:32:22.276025Z"
    }
   },
   "cell_type": "code",
   "source": [
    "square = lambda n : n ** 2\n",
    "squares = [square(i) for i in range(1, 11)]\n",
    "print(squares)"
   ],
   "id": "5831283caf71a975",
   "outputs": [
    {
     "name": "stdout",
     "output_type": "stream",
     "text": [
      "[1, 4, 9, 16, 25, 36, 49, 64, 81, 100]\n"
     ]
    }
   ],
   "execution_count": 7
  },
  {
   "metadata": {
    "ExecuteTime": {
     "end_time": "2025-09-13T08:36:33.233450Z",
     "start_time": "2025-09-13T08:36:33.224097Z"
    }
   },
   "cell_type": "code",
   "source": [
    "def factorial(n):\n",
    "    if n <= 0:\n",
    "        return 1\n",
    "    return n * factorial(n - 1)\n",
    "\n",
    "factorials = [factorial(i) for i in range(1, 11)]\n",
    "print(factorials)"
   ],
   "id": "a7c05f9bde74847",
   "outputs": [
    {
     "name": "stdout",
     "output_type": "stream",
     "text": [
      "[1, 2, 6, 24, 120, 720, 5040, 40320, 362880, 3628800]\n"
     ]
    }
   ],
   "execution_count": 12
  },
  {
   "metadata": {
    "ExecuteTime": {
     "end_time": "2025-09-13T08:38:39.917355Z",
     "start_time": "2025-09-13T08:38:39.908483Z"
    }
   },
   "cell_type": "code",
   "source": [
    "def is_prime(n):\n",
    "    for i in range(2, (n // 2) + 1):\n",
    "        if n % i == 0:\n",
    "            return False\n",
    "    return True\n",
    "\n",
    "primes = [i for i in range(2, 101) if is_prime(i)]\n",
    "print(primes)"
   ],
   "id": "5725906c1e4e3d2b",
   "outputs": [
    {
     "name": "stdout",
     "output_type": "stream",
     "text": [
      "[2, 3, 5, 7, 11, 13, 17, 19, 23, 29, 31, 37, 41, 43, 47, 53, 59, 61, 67, 71, 73, 79, 83, 89, 97]\n"
     ]
    }
   ],
   "execution_count": 13
  },
  {
   "metadata": {},
   "cell_type": "code",
   "outputs": [],
   "execution_count": null,
   "source": "",
   "id": "6131e914b930a730"
  },
  {
   "metadata": {
    "ExecuteTime": {
     "end_time": "2025-09-13T09:04:04.489552Z",
     "start_time": "2025-09-13T09:04:04.428293Z"
    }
   },
   "cell_type": "code",
   "source": [
    "# Iterators\n",
    "\n",
    "numbers = [i for i in range(1, 5)]\n",
    "\n",
    "numberIter = iter(numbers)\n",
    "print(next(numberIter))\n",
    "print(next(numberIter))\n",
    "print(next(numberIter))\n",
    "print(next(numberIter))\n",
    "print(next(numberIter))"
   ],
   "id": "88e5670db3da3fb5",
   "outputs": [
    {
     "name": "stdout",
     "output_type": "stream",
     "text": [
      "1\n",
      "2\n",
      "3\n",
      "4\n"
     ]
    },
    {
     "ename": "StopIteration",
     "evalue": "",
     "output_type": "error",
     "traceback": [
      "\u001B[31m---------------------------------------------------------------------------\u001B[39m",
      "\u001B[31mStopIteration\u001B[39m                             Traceback (most recent call last)",
      "\u001B[36mCell\u001B[39m\u001B[36m \u001B[39m\u001B[32mIn[22]\u001B[39m\u001B[32m, line 10\u001B[39m\n\u001B[32m      8\u001B[39m \u001B[38;5;28mprint\u001B[39m(\u001B[38;5;28mnext\u001B[39m(numberIter))\n\u001B[32m      9\u001B[39m \u001B[38;5;28mprint\u001B[39m(\u001B[38;5;28mnext\u001B[39m(numberIter))\n\u001B[32m---> \u001B[39m\u001B[32m10\u001B[39m \u001B[38;5;28mprint\u001B[39m(\u001B[38;5;28;43mnext\u001B[39;49m\u001B[43m(\u001B[49m\u001B[43mnumberIter\u001B[49m\u001B[43m)\u001B[49m)\n",
      "\u001B[31mStopIteration\u001B[39m: "
     ]
    }
   ],
   "execution_count": 22
  },
  {
   "metadata": {
    "ExecuteTime": {
     "end_time": "2025-09-13T09:31:00.758629Z",
     "start_time": "2025-09-13T09:31:00.750139Z"
    }
   },
   "cell_type": "code",
   "source": [
    "nums = [i for i in range(11, 21)]\n",
    "numsIter = iter(nums)\n",
    "\n",
    "# for i in numsIter:\n",
    "#     print(next(numsIter))\n",
    "\n",
    "for i in numsIter:\n",
    "    print(i)"
   ],
   "id": "cf77eb7c1ad28fdb",
   "outputs": [
    {
     "name": "stdout",
     "output_type": "stream",
     "text": [
      "11\n",
      "12\n",
      "13\n",
      "14\n",
      "15\n",
      "16\n",
      "17\n",
      "18\n",
      "19\n",
      "20\n"
     ]
    }
   ],
   "execution_count": 39
  },
  {
   "metadata": {
    "ExecuteTime": {
     "end_time": "2025-09-13T09:11:39.763902Z",
     "start_time": "2025-09-13T09:11:39.754308Z"
    }
   },
   "cell_type": "code",
   "source": [
    "def gen_square(n):\n",
    "    for i in range(n):\n",
    "        yield i ** 2\n",
    "\n",
    "result = gen_square(11);\n",
    "\n",
    "for i in result:\n",
    "    print(i)"
   ],
   "id": "64012d640ac4f687",
   "outputs": [
    {
     "name": "stdout",
     "output_type": "stream",
     "text": [
      "0\n",
      "1\n",
      "4\n",
      "9\n",
      "16\n",
      "25\n",
      "36\n",
      "49\n",
      "64\n",
      "81\n",
      "100\n"
     ]
    }
   ],
   "execution_count": 38
  },
  {
   "metadata": {
    "ExecuteTime": {
     "end_time": "2025-09-13T09:35:56.772140Z",
     "start_time": "2025-09-13T09:35:56.759432Z"
    }
   },
   "cell_type": "code",
   "source": [
    "\n",
    "l = [i for i in range(1, 11)]\n",
    "print(type(l))\n",
    "\n",
    "s = {i for i in range(1, 11)}\n",
    "print(type(s))\n",
    "\n",
    "d = {i: i ** 2 for i in range(1, 11)}\n",
    "print(d)\n",
    "print(type(d))\n",
    "\n",
    "t = (a for a in range(1, 11))\n",
    "print(type(t))\n",
    "\n",
    "for i in t:\n",
    "    print(i, end=' ')\n",
    "\n",
    "t = (a for a in range(1, 11))\n",
    "for i in range(1, 11):\n",
    "    print(next(t), end=' ')"
   ],
   "id": "64720a60adc2934d",
   "outputs": [
    {
     "name": "stdout",
     "output_type": "stream",
     "text": [
      "<class 'list'>\n",
      "<class 'set'>\n",
      "{1: 1, 2: 4, 3: 9, 4: 16, 5: 25, 6: 36, 7: 49, 8: 64, 9: 81, 10: 100}\n",
      "<class 'dict'>\n",
      "<class 'generator'>\n",
      "1 2 3 4 5 6 7 8 9 10 1 2 3 4 5 6 7 8 9 10 "
     ]
    }
   ],
   "execution_count": 49
  },
  {
   "metadata": {
    "ExecuteTime": {
     "end_time": "2025-09-13T09:33:23.753112Z",
     "start_time": "2025-09-13T09:33:23.748832Z"
    }
   },
   "cell_type": "code",
   "source": "",
   "id": "86989dab549330",
   "outputs": [],
   "execution_count": null
  },
  {
   "metadata": {
    "ExecuteTime": {
     "end_time": "2025-09-13T09:59:25.158893Z",
     "start_time": "2025-09-13T09:59:25.150266Z"
    }
   },
   "cell_type": "code",
   "source": [
    "texts = ['Apple', 'Banana', 'bc', 'car']\n",
    "vowles = ['a', 'e', 'i', 'o', 'u']\n",
    "vowels = [s for s in texts if sum([1 for c in s if c.lower() in vowles]) >= 2]\n",
    "\n",
    "print(vowels)"
   ],
   "id": "7fba1397745be134",
   "outputs": [
    {
     "name": "stdout",
     "output_type": "stream",
     "text": [
      "['Apple', 'Banana']\n"
     ]
    }
   ],
   "execution_count": 51
  },
  {
   "metadata": {
    "ExecuteTime": {
     "end_time": "2025-09-13T10:23:30.495354Z",
     "start_time": "2025-09-13T10:23:30.487484Z"
    }
   },
   "cell_type": "code",
   "source": [
    "\n",
    "names = ['Shivam', 'Ajay', 'Aryan', 'Arjun', 'Kalash']\n",
    "\n",
    "namesA = [s.upper() for s in names if s.startswith('A')]\n",
    "\n",
    "print(namesA)"
   ],
   "id": "7225ef013b2a77cf",
   "outputs": [
    {
     "name": "stdout",
     "output_type": "stream",
     "text": [
      "['AJAY', 'ARYAN', 'ARJUN']\n"
     ]
    }
   ],
   "execution_count": 52
  },
  {
   "metadata": {
    "ExecuteTime": {
     "end_time": "2025-09-13T10:29:05.555898Z",
     "start_time": "2025-09-13T10:29:05.547254Z"
    }
   },
   "cell_type": "code",
   "source": [
    "def even_odd(n):\n",
    "    if n % 2 == 0:\n",
    "        return 'Even'\n",
    "    return 'Odd'\n",
    "\n",
    "#evens_odds = {n : even_odd(n) for n in range(1, 11)}\n",
    "evens_odds = {n : 'Even' if n % 2 == 0 else 'Odd' for n in range(1, 11)}\n",
    "print(evens_odds)"
   ],
   "id": "91d2925a1fb3e43d",
   "outputs": [
    {
     "name": "stdout",
     "output_type": "stream",
     "text": [
      "{1: 'Odd', 2: 'Even', 3: 'Odd', 4: 'Even', 5: 'Odd', 6: 'Even', 7: 'Odd', 8: 'Even', 9: 'Odd', 10: 'Even'}\n"
     ]
    }
   ],
   "execution_count": 54
  },
  {
   "metadata": {
    "ExecuteTime": {
     "end_time": "2025-09-13T11:00:57.272317Z",
     "start_time": "2025-09-13T11:00:57.265949Z"
    }
   },
   "cell_type": "code",
   "source": [
    "keys_values = {'a': 1, 'b': 2, 'c': 3}\n",
    "\n",
    "inverted = dict(map(lambda i : (i[1], i[0]), keys_values.items()))\n",
    "\n",
    "print(inverted)\n"
   ],
   "id": "6c8cfe666e3659bb",
   "outputs": [
    {
     "name": "stdout",
     "output_type": "stream",
     "text": [
      "{1: 'a', 2: 'b', 3: 'c'}\n"
     ]
    }
   ],
   "execution_count": 59
  },
  {
   "metadata": {
    "ExecuteTime": {
     "end_time": "2025-09-13T11:06:31.317472Z",
     "start_time": "2025-09-13T11:06:31.308028Z"
    }
   },
   "cell_type": "code",
   "source": [
    "def is_prime(n):\n",
    "    for i in range(2, (n // 2) + 1):\n",
    "        if n % i == 0:\n",
    "            return False\n",
    "    return True\n",
    "\n",
    "\n",
    "square_of_prime = [n ** 2 for n in range(2, 101) if is_prime(n)]\n",
    "print(square_of_prime)"
   ],
   "id": "5ca88d5699e1db66",
   "outputs": [
    {
     "name": "stdout",
     "output_type": "stream",
     "text": [
      "[4, 9, 25, 49, 121, 169, 289, 361, 529, 841, 961, 1369, 1681, 1849, 2209, 2809, 3481, 3721, 4489, 5041, 5329, 6241, 6889, 7921, 9409]\n"
     ]
    }
   ],
   "execution_count": 63
  },
  {
   "metadata": {
    "ExecuteTime": {
     "end_time": "2025-09-13T11:08:23.398129Z",
     "start_time": "2025-09-13T11:08:23.389013Z"
    }
   },
   "cell_type": "code",
   "source": [
    "\n",
    "s = 'aa12bb4c3d56'\n",
    "numbers = filter(lambda s : s.isnumeric(), s)\n",
    "print(list(numbers))"
   ],
   "id": "b00998ef07ede306",
   "outputs": [
    {
     "name": "stdout",
     "output_type": "stream",
     "text": [
      "['1', '2', '4', '3', '5', '6']\n"
     ]
    }
   ],
   "execution_count": 66
  },
  {
   "metadata": {
    "ExecuteTime": {
     "end_time": "2025-09-13T11:10:18.035317Z",
     "start_time": "2025-09-13T11:10:18.025582Z"
    }
   },
   "cell_type": "code",
   "source": [
    "names = ['abc', 'mno', 'pqr', 'xyz', 'wvq']\n",
    "marks = [90, 80, 75, 42]\n",
    "\n",
    "create_dict = map(lambda k, v : (k, v), names, marks)\n",
    "print(dict(create_dict))"
   ],
   "id": "a1c43df1860f329e",
   "outputs": [
    {
     "name": "stdout",
     "output_type": "stream",
     "text": [
      "{'abc': 90, 'mno': 80, 'pqr': 75, 'xyz': 42}\n"
     ]
    }
   ],
   "execution_count": 68
  },
  {
   "metadata": {},
   "cell_type": "code",
   "outputs": [],
   "execution_count": null,
   "source": "",
   "id": "b3f3f6fc43de5b2a"
  }
 ],
 "metadata": {
  "kernelspec": {
   "display_name": "Python 3",
   "language": "python",
   "name": "python3"
  },
  "language_info": {
   "codemirror_mode": {
    "name": "ipython",
    "version": 2
   },
   "file_extension": ".py",
   "mimetype": "text/x-python",
   "name": "python",
   "nbconvert_exporter": "python",
   "pygments_lexer": "ipython2",
   "version": "2.7.6"
  }
 },
 "nbformat": 4,
 "nbformat_minor": 5
}
