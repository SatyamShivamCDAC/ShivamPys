{
 "cells": [
  {
   "cell_type": "code",
   "execution_count": null,
   "id": "initial_id",
   "metadata": {
    "collapsed": true
   },
   "outputs": [],
   "source": "# Comprehensions"
  },
  {
   "metadata": {
    "ExecuteTime": {
     "end_time": "2025-09-13T08:28:52.393788Z",
     "start_time": "2025-09-13T08:28:52.386256Z"
    }
   },
   "cell_type": "code",
   "source": [
    "numbers = [i for i in range(1, 11)]\n",
    "print(numbers)"
   ],
   "id": "36a680c165769a89",
   "outputs": [
    {
     "name": "stdout",
     "output_type": "stream",
     "text": [
      "[1, 2, 3, 4, 5, 6, 7, 8, 9]\n"
     ]
    }
   ],
   "execution_count": 2
  },
  {
   "metadata": {
    "ExecuteTime": {
     "end_time": "2025-09-13T08:29:45.707473Z",
     "start_time": "2025-09-13T08:29:45.699756Z"
    }
   },
   "cell_type": "code",
   "source": [
    "evens = {i for i in range(1, 51) if i % 2 == 0}\n",
    "print(evens)"
   ],
   "id": "ea5723572690cd1a",
   "outputs": [
    {
     "name": "stdout",
     "output_type": "stream",
     "text": [
      "{2, 4, 6, 8, 10, 12, 14, 16, 18, 20, 22, 24, 26, 28, 30, 32, 34, 36, 38, 40, 42, 44, 46, 48, 50}\n"
     ]
    }
   ],
   "execution_count": 3
  },
  {
   "metadata": {
    "ExecuteTime": {
     "end_time": "2025-09-13T08:31:08.861538Z",
     "start_time": "2025-09-13T08:31:08.853669Z"
    }
   },
   "cell_type": "code",
   "source": [
    "isOdd = lambda n : n % 2 != 0\n",
    "odds = (i for i in range(51, 101) if isOdd(i))\n",
    "print(odds)\n",
    "print(list(odds))"
   ],
   "id": "b941b55e5902b01f",
   "outputs": [
    {
     "name": "stdout",
     "output_type": "stream",
     "text": [
      "<generator object <genexpr> at 0x7fa5c4136c20>\n",
      "[51, 53, 55, 57, 59, 61, 63, 65, 67, 69, 71, 73, 75, 77, 79, 81, 83, 85, 87, 89, 91, 93, 95, 97, 99]\n"
     ]
    }
   ],
   "execution_count": 6
  },
  {
   "metadata": {
    "ExecuteTime": {
     "end_time": "2025-09-13T08:32:22.283842Z",
     "start_time": "2025-09-13T08:32:22.276025Z"
    }
   },
   "cell_type": "code",
   "source": [
    "square = lambda n : n ** 2\n",
    "squares = [square(i) for i in range(1, 11)]\n",
    "print(squares)"
   ],
   "id": "5831283caf71a975",
   "outputs": [
    {
     "name": "stdout",
     "output_type": "stream",
     "text": [
      "[1, 4, 9, 16, 25, 36, 49, 64, 81, 100]\n"
     ]
    }
   ],
   "execution_count": 7
  },
  {
   "metadata": {
    "ExecuteTime": {
     "end_time": "2025-09-13T08:36:33.233450Z",
     "start_time": "2025-09-13T08:36:33.224097Z"
    }
   },
   "cell_type": "code",
   "source": [
    "def factorial(n):\n",
    "    if n <= 0:\n",
    "        return 1\n",
    "    return n * factorial(n - 1)\n",
    "\n",
    "factorials = [factorial(i) for i in range(1, 11)]\n",
    "print(factorials)"
   ],
   "id": "a7c05f9bde74847",
   "outputs": [
    {
     "name": "stdout",
     "output_type": "stream",
     "text": [
      "[1, 2, 6, 24, 120, 720, 5040, 40320, 362880, 3628800]\n"
     ]
    }
   ],
   "execution_count": 12
  },
  {
   "metadata": {
    "ExecuteTime": {
     "end_time": "2025-09-13T08:38:39.917355Z",
     "start_time": "2025-09-13T08:38:39.908483Z"
    }
   },
   "cell_type": "code",
   "source": [
    "def is_prime(n):\n",
    "    for i in range(2, (n // 2) + 1):\n",
    "        if n % i == 0:\n",
    "            return False\n",
    "    return True\n",
    "\n",
    "primes = [i for i in range(2, 101) if is_prime(i)]\n",
    "print(primes)"
   ],
   "id": "5725906c1e4e3d2b",
   "outputs": [
    {
     "name": "stdout",
     "output_type": "stream",
     "text": [
      "[2, 3, 5, 7, 11, 13, 17, 19, 23, 29, 31, 37, 41, 43, 47, 53, 59, 61, 67, 71, 73, 79, 83, 89, 97]\n"
     ]
    }
   ],
   "execution_count": 13
  },
  {
   "metadata": {},
   "cell_type": "code",
   "outputs": [],
   "execution_count": null,
   "source": "",
   "id": "6131e914b930a730"
  },
  {
   "metadata": {
    "ExecuteTime": {
     "end_time": "2025-09-13T09:04:04.489552Z",
     "start_time": "2025-09-13T09:04:04.428293Z"
    }
   },
   "cell_type": "code",
   "source": [
    "# Iterators\n",
    "\n",
    "numbers = [i for i in range(1, 5)]\n",
    "\n",
    "numberIter = iter(numbers)\n",
    "print(next(numberIter))\n",
    "print(next(numberIter))\n",
    "print(next(numberIter))\n",
    "print(next(numberIter))\n",
    "print(next(numberIter))"
   ],
   "id": "88e5670db3da3fb5",
   "outputs": [
    {
     "name": "stdout",
     "output_type": "stream",
     "text": [
      "1\n",
      "2\n",
      "3\n",
      "4\n"
     ]
    },
    {
     "ename": "StopIteration",
     "evalue": "",
     "output_type": "error",
     "traceback": [
      "\u001B[31m---------------------------------------------------------------------------\u001B[39m",
      "\u001B[31mStopIteration\u001B[39m                             Traceback (most recent call last)",
      "\u001B[36mCell\u001B[39m\u001B[36m \u001B[39m\u001B[32mIn[22]\u001B[39m\u001B[32m, line 10\u001B[39m\n\u001B[32m      8\u001B[39m \u001B[38;5;28mprint\u001B[39m(\u001B[38;5;28mnext\u001B[39m(numberIter))\n\u001B[32m      9\u001B[39m \u001B[38;5;28mprint\u001B[39m(\u001B[38;5;28mnext\u001B[39m(numberIter))\n\u001B[32m---> \u001B[39m\u001B[32m10\u001B[39m \u001B[38;5;28mprint\u001B[39m(\u001B[38;5;28;43mnext\u001B[39;49m\u001B[43m(\u001B[49m\u001B[43mnumberIter\u001B[49m\u001B[43m)\u001B[49m)\n",
      "\u001B[31mStopIteration\u001B[39m: "
     ]
    }
   ],
   "execution_count": 22
  },
  {
   "metadata": {
    "ExecuteTime": {
     "end_time": "2025-09-13T09:31:00.758629Z",
     "start_time": "2025-09-13T09:31:00.750139Z"
    }
   },
   "cell_type": "code",
   "source": [
    "nums = [i for i in range(11, 21)]\n",
    "numsIter = iter(nums)\n",
    "\n",
    "# for i in numsIter:\n",
    "#     print(next(numsIter))\n",
    "\n",
    "for i in numsIter:\n",
    "    print(i)"
   ],
   "id": "cf77eb7c1ad28fdb",
   "outputs": [
    {
     "name": "stdout",
     "output_type": "stream",
     "text": [
      "11\n",
      "12\n",
      "13\n",
      "14\n",
      "15\n",
      "16\n",
      "17\n",
      "18\n",
      "19\n",
      "20\n"
     ]
    }
   ],
   "execution_count": 39
  },
  {
   "metadata": {
    "ExecuteTime": {
     "end_time": "2025-09-13T09:11:39.763902Z",
     "start_time": "2025-09-13T09:11:39.754308Z"
    }
   },
   "cell_type": "code",
   "source": [
    "def gen_square(n):\n",
    "    for i in range(n):\n",
    "        yield i ** 2\n",
    "\n",
    "result = gen_square(11);\n",
    "\n",
    "for i in result:\n",
    "    print(i)"
   ],
   "id": "64012d640ac4f687",
   "outputs": [
    {
     "name": "stdout",
     "output_type": "stream",
     "text": [
      "0\n",
      "1\n",
      "4\n",
      "9\n",
      "16\n",
      "25\n",
      "36\n",
      "49\n",
      "64\n",
      "81\n",
      "100\n"
     ]
    }
   ],
   "execution_count": 38
  },
  {
   "metadata": {},
   "cell_type": "code",
   "outputs": [],
   "execution_count": null,
   "source": "\n",
   "id": "64720a60adc2934d"
  }
 ],
 "metadata": {
  "kernelspec": {
   "display_name": "Python 3",
   "language": "python",
   "name": "python3"
  },
  "language_info": {
   "codemirror_mode": {
    "name": "ipython",
    "version": 2
   },
   "file_extension": ".py",
   "mimetype": "text/x-python",
   "name": "python",
   "nbconvert_exporter": "python",
   "pygments_lexer": "ipython2",
   "version": "2.7.6"
  }
 },
 "nbformat": 4,
 "nbformat_minor": 5
}
