{
 "cells": [
  {
   "cell_type": "code",
   "execution_count": null,
   "id": "initial_id",
   "metadata": {
    "collapsed": true,
    "jupyter": {
     "outputs_hidden": true
    }
   },
   "outputs": [],
   "source": [
    "from Assignment1 import uniques\n",
    "\n",
    "\n",
    "# Lambda Anonymous Functions\n",
    "\n",
    "def add(a, b):\n",
    "    return a + b\n",
    "\n",
    "print(add(11, 3))"
   ]
  },
  {
   "cell_type": "code",
   "execution_count": 1,
   "id": "ea5537adce2d7b7c",
   "metadata": {
    "ExecuteTime": {
     "end_time": "2025-09-12T02:58:27.090805Z",
     "start_time": "2025-09-12T02:58:27.082241Z"
    }
   },
   "outputs": [
    {
     "name": "stdout",
     "output_type": "stream",
     "text": [
      "8\n"
     ]
    }
   ],
   "source": [
    "\n",
    "subtract = lambda a, b : a - b\n",
    "print(subtract(15, 7))"
   ]
  },
  {
   "cell_type": "code",
   "execution_count": 2,
   "id": "74895b3a549fe933",
   "metadata": {
    "ExecuteTime": {
     "end_time": "2025-09-12T02:58:55.020401Z",
     "start_time": "2025-09-12T02:58:55.013078Z"
    }
   },
   "outputs": [
    {
     "name": "stdout",
     "output_type": "stream",
     "text": [
      "25\n"
     ]
    }
   ],
   "source": [
    "\n",
    "square = lambda x : x ** 2\n",
    "print(square(5))"
   ]
  },
  {
   "cell_type": "code",
   "execution_count": null,
   "id": "95fb879a06205b52",
   "metadata": {},
   "outputs": [],
   "source": []
  },
  {
   "cell_type": "code",
   "execution_count": 4,
   "id": "d822afbda30ddd50",
   "metadata": {
    "ExecuteTime": {
     "end_time": "2025-09-12T03:17:30.653903Z",
     "start_time": "2025-09-12T03:17:30.645485Z"
    }
   },
   "outputs": [
    {
     "name": "stdout",
     "output_type": "stream",
     "text": [
      "5\n",
      "3\n",
      "14\n",
      "3.3333333333333335\n"
     ]
    }
   ],
   "source": [
    "import calculator\n",
    "import calculator as calc\n",
    "from calculator import mul, div\n",
    "print(calculator.add(2, 3))\n",
    "print(calc.sub(10, 7))\n",
    "print(mul(7, 2))\n",
    "print(div(10, 3))"
   ]
  },
  {
   "cell_type": "code",
   "execution_count": 8,
   "id": "da3352f762779030",
   "metadata": {
    "ExecuteTime": {
     "end_time": "2025-09-12T03:28:27.913360Z",
     "start_time": "2025-09-12T03:28:27.905089Z"
    }
   },
   "outputs": [
    {
     "name": "stdout",
     "output_type": "stream",
     "text": [
      "13\n",
      "3.0\n",
      "20\n",
      "-1\n"
     ]
    }
   ],
   "source": [
    "import number_math\n",
    "from number_math import calculator\n",
    "from number_math.calculator import div\n",
    "from number_math.calculator import mul as s\n",
    "print(calculator.add(10, 3))\n",
    "print(div(9, 3))\n",
    "print(s(10, 2))\n",
    "\n",
    "print(number_math.calculator.sub(8, 9))\n"
   ]
  },
  {
   "cell_type": "code",
   "execution_count": null,
   "id": "16f3927b32984648",
   "metadata": {
    "ExecuteTime": {
     "end_time": "2025-09-12T03:27:20.034512Z",
     "start_time": "2025-09-12T03:27:20.029400Z"
    }
   },
   "outputs": [],
   "source": []
  },
  {
   "cell_type": "code",
   "execution_count": 5,
   "id": "af349ee993e9d521",
   "metadata": {
    "ExecuteTime": {
     "end_time": "2025-09-12T04:19:07.523241Z",
     "start_time": "2025-09-12T04:19:07.513199Z"
    }
   },
   "outputs": [
    {
     "name": "stdout",
     "output_type": "stream",
     "text": [
      "[6, 3, 3, 4, 4, 3, 3, 6]\n",
      "6\n"
     ]
    }
   ],
   "source": [
    "def analyse_text(text):\n",
    "    words = text.split(' ')\n",
    "    number_of_words = len(words)\n",
    "\n",
    "    uniques = []\n",
    "\n",
    "    for word in words:\n",
    "        if word not in uniques:\n",
    "            new_word = []\n",
    "            for char in word:\n",
    "                if char.isalpha():\n",
    "                    new_word.append(char)\n",
    "            uniques.append(''.join(new_word).lower())\n",
    "\n",
    "\n",
    "\n",
    "    number_of_uniques = len(uniques)\n",
    "\n",
    "\n",
    "    number_of_vowels = 0\n",
    "    vowels = ['a', 'e', 'i', 'o', 'u']\n",
    "    for word in words:\n",
    "        for char in word:\n",
    "            if char.lower() in vowels:\n",
    "                number_of_vowels += 1\n",
    "\n",
    "    longest_word = ''\n",
    "    for word in uniques:\n",
    "        if len(word) > len(longest_word):\n",
    "            longest_word = word\n",
    "\n",
    "    length_count = {}\n",
    "    for word in words:\n",
    "\n",
    "    \n",
    "    \n",
    "\n",
    "\n",
    "analyse_text('Hello, How are you! What are you doing?')"
   ]
  },
  {
   "cell_type": "code",
   "execution_count": null,
   "id": "3274fbf511cf7515",
   "metadata": {},
   "outputs": [],
   "source": []
  }
 ],
 "metadata": {
  "kernelspec": {
   "display_name": "Python 3 (ipykernel)",
   "language": "python",
   "name": "python3"
  },
  "language_info": {
   "codemirror_mode": {
    "name": "ipython",
    "version": 3
   },
   "file_extension": ".py",
   "mimetype": "text/x-python",
   "name": "python",
   "nbconvert_exporter": "python",
   "pygments_lexer": "ipython3",
   "version": "3.13.7"
  }
 },
 "nbformat": 4,
 "nbformat_minor": 5
}
