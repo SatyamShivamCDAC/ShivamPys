{
 "cells": [
  {
   "cell_type": "code",
   "id": "initial_id",
   "metadata": {
    "collapsed": true,
    "ExecuteTime": {
     "end_time": "2025-09-16T11:48:55.175455Z",
     "start_time": "2025-09-16T11:48:55.166058Z"
    }
   },
   "source": [
    "class Employee:\n",
    "    company = ''\n",
    "    id_count = 0\n",
    "\n",
    "    def __init__(self, name, role, salary):\n",
    "\n",
    "        self.id += Employee.id_count\n",
    "        self.name = name\n",
    "        self.role = role\n",
    "        self.salary = salary\n",
    "\n",
    "    @classmethod\n",
    "    def set_company(cls, company):\n",
    "        cls.company = company\n",
    "\n",
    "    @classmethod\n",
    "    def increment_get_id(cls):\n",
    "        cls.id_count += 1\n",
    "\n",
    "    @classmethod\n",
    "    def get_id_counter(cls):\n",
    "        return cls.id_count\n",
    "\n"
   ],
   "outputs": [],
   "execution_count": 1
  },
  {
   "metadata": {},
   "cell_type": "code",
   "outputs": [],
   "execution_count": null,
   "source": "",
   "id": "f920f8b9d66cedcf"
  }
 ],
 "metadata": {
  "kernelspec": {
   "display_name": "Python 3",
   "language": "python",
   "name": "python3"
  },
  "language_info": {
   "codemirror_mode": {
    "name": "ipython",
    "version": 2
   },
   "file_extension": ".py",
   "mimetype": "text/x-python",
   "name": "python",
   "nbconvert_exporter": "python",
   "pygments_lexer": "ipython2",
   "version": "2.7.6"
  }
 },
 "nbformat": 4,
 "nbformat_minor": 5
}
