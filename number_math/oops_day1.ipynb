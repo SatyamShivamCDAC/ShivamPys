{
 "cells": [
  {
   "cell_type": "code",
   "execution_count": 1,
   "id": "initial_id",
   "metadata": {
    "ExecuteTime": {
     "end_time": "2025-09-16T11:48:55.175455Z",
     "start_time": "2025-09-16T11:48:55.166058Z"
    }
   },
   "outputs": [],
   "source": [
    "class Employee:\n",
    "    company = ''\n",
    "    id_count = 0\n",
    "\n",
    "    def __init__(self, name, role, salary):\n",
    "\n",
    "        self.id += in\n",
    "        self.name = name\n",
    "        self.role = role\n",
    "        self.salary = salary\n",
    "\n",
    "    @classmethod\n",
    "    def set_company(cls, company):\n",
    "        cls.company = company\n",
    "\n",
    "    @staticmethod\n",
    "    def increment_get_id():\n",
    "        id_count += 1\n",
    "        return id_count\n",
    "\n",
    "\n"
   ]
  },
  {
   "cell_type": "code",
   "execution_count": null,
   "id": "f920f8b9d66cedcf",
   "metadata": {},
   "outputs": [],
   "source": []
  }
 ],
 "metadata": {
  "kernelspec": {
   "display_name": "Python 3 (ipykernel)",
   "language": "python",
   "name": "python3"
  },
  "language_info": {
   "codemirror_mode": {
    "name": "ipython",
    "version": 3
   },
   "file_extension": ".py",
   "mimetype": "text/x-python",
   "name": "python",
   "nbconvert_exporter": "python",
   "pygments_lexer": "ipython3",
   "version": "3.13.7"
  }
 },
 "nbformat": 4,
 "nbformat_minor": 5
}
