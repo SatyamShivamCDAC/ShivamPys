{
 "cells": [
  {
   "cell_type": "code",
   "execution_count": 1,
   "id": "initial_id",
   "metadata": {
    "ExecuteTime": {
     "end_time": "2025-09-08T15:08:26.676348Z",
     "start_time": "2025-09-08T15:08:26.670439Z"
    }
   },
   "outputs": [
    {
     "name": "stdout",
     "output_type": "stream",
     "text": [
      "1 2\n",
      "2 1\n"
     ]
    }
   ],
   "source": [
    "# 1. Swap two numbers\n",
    "a = 1\n",
    "b = 2\n",
    "print(a, b)\n",
    "a, b = b, a\n",
    "print(a, b)"
   ]
  },
  {
   "cell_type": "markdown",
   "id": "5f22cb2ea44f432",
   "metadata": {},
   "source": []
  },
  {
   "cell_type": "code",
   "execution_count": 2,
   "id": "8e0e50ad3aba8f62",
   "metadata": {
    "ExecuteTime": {
     "end_time": "2025-09-08T15:09:43.477731Z",
     "start_time": "2025-09-08T15:09:43.469300Z"
    }
   },
   "outputs": [
    {
     "name": "stdout",
     "output_type": "stream",
     "text": [
      "1 2\n",
      "2 1\n"
     ]
    }
   ],
   "source": [
    "a = 1\n",
    "b = 2\n",
    "print(a, b)\n",
    "a = a + b\n",
    "b = a - b\n",
    "a = a - b\n",
    "print(a, b)"
   ]
  },
  {
   "cell_type": "code",
   "execution_count": null,
   "id": "203353da-9077-49b0-82fb-fd216a686cf1",
   "metadata": {},
   "outputs": [],
   "source": []
  },
  {
   "cell_type": "code",
   "execution_count": 21,
   "id": "c89044c8c8bb301a",
   "metadata": {
    "ExecuteTime": {
     "end_time": "2025-09-08T15:17:11.362806Z",
     "start_time": "2025-09-08T15:17:11.353250Z"
    }
   },
   "outputs": [
    {
     "name": "stdout",
     "output_type": "stream",
     "text": [
      "4 + 3 + 2 + 1 = 10\n",
      "0\n"
     ]
    }
   ],
   "source": [
    "# 2. Sum of digits of a number\n",
    "\n",
    "number = 1234\n",
    "\n",
    "first_digit = number % 10\n",
    "\n",
    "number //= 10\n",
    "second_digit = number % 10\n",
    "\n",
    "number //= 10\n",
    "third_digit = number % 10\n",
    "\n",
    "number //= 10\n",
    "fourth_digit = number % 10\n",
    "\n",
    "sum = first_digit + second_digit + third_digit + fourth_digit;\n",
    "print(f'{first_digit} + {second_digit} + {third_digit} + {fourth_digit} = {sum}')\n",
    "number //= 10\n",
    "print(number)"
   ]
  },
  {
   "cell_type": "code",
   "execution_count": null,
   "id": "a21b04ce-0a9b-4ea7-8801-6b2ec8929977",
   "metadata": {},
   "outputs": [],
   "source": []
  },
  {
   "cell_type": "code",
   "execution_count": 27,
   "id": "58fe2c8dbb274ce0",
   "metadata": {
    "ExecuteTime": {
     "end_time": "2025-09-08T15:19:42.900695Z",
     "start_time": "2025-09-08T15:19:42.892430Z"
    }
   },
   "outputs": [
    {
     "name": "stdout",
     "output_type": "stream",
     "text": [
      "4 + 3 + 2 + 1 = 10\n"
     ]
    }
   ],
   "source": [
    "number = 1234\n",
    "sum = 0\n",
    "while number:\n",
    "    digit = number % 10\n",
    "    sum += digit\n",
    "    number //= 10\n",
    "\n",
    "print(f'{first_digit} + {second_digit} + {third_digit} + {fourth_digit} = {sum}')"
   ]
  },
  {
   "cell_type": "code",
   "execution_count": null,
   "id": "d81b33eb-31fb-47e6-af46-e4c20d370508",
   "metadata": {},
   "outputs": [],
   "source": []
  },
  {
   "cell_type": "code",
   "execution_count": 36,
   "id": "815de729b5012b82",
   "metadata": {},
   "outputs": [
    {
     "name": "stdin",
     "output_type": "stream",
     "text": [
      "Number:  -2\n"
     ]
    },
    {
     "name": "stdout",
     "output_type": "stream",
     "text": [
      "-2 is Even.\n"
     ]
    }
   ],
   "source": [
    "# 3. Even or Odd\n",
    "number = int(input('Number: '))\n",
    "\n",
    "if number % 2 == 0:\n",
    "    print(number, 'is Even.')\n",
    "else:\n",
    "    print(number, 'is Odd.')"
   ]
  },
  {
   "cell_type": "code",
   "execution_count": null,
   "id": "5e47f18f-bf76-4d60-abfc-afe73e640432",
   "metadata": {},
   "outputs": [],
   "source": []
  },
  {
   "cell_type": "code",
   "execution_count": 49,
   "id": "d5597783-3282-43c9-a655-e152e85abd3c",
   "metadata": {},
   "outputs": [
    {
     "name": "stdin",
     "output_type": "stream",
     "text": [
      "Marks:  40\n"
     ]
    },
    {
     "name": "stdout",
     "output_type": "stream",
     "text": [
      "Fail\n"
     ]
    }
   ],
   "source": [
    "# 4. Assign grade based on marks\n",
    "\n",
    "marks = int(input('Marks: '))\n",
    "\n",
    "if marks <= 0 or marks > 100:\n",
    "    print('Enter valid marks')\n",
    "elif marks >= 76:\n",
    "    print('Distinction')\n",
    "elif marks >= 54:\n",
    "    print('Second Class')\n",
    "elif marks >= 41:\n",
    "    print('Pass')\n",
    "else:\n",
    "    print('Fail')\n",
    "    "
   ]
  },
  {
   "cell_type": "code",
   "execution_count": null,
   "id": "feecde58-312c-4092-9064-063c0c23d12a",
   "metadata": {},
   "outputs": [],
   "source": []
  },
  {
   "cell_type": "code",
   "execution_count": 50,
   "id": "9be549ad-206c-4669-8585-b517182df8c8",
   "metadata": {},
   "outputs": [
    {
     "name": "stdin",
     "output_type": "stream",
     "text": [
      "Number:  5\n"
     ]
    },
    {
     "name": "stdout",
     "output_type": "stream",
     "text": [
      "Factorial: 120\n"
     ]
    }
   ],
   "source": [
    "# 5. Factorial of a number\n",
    "\n",
    "number = int(input('Number: '))\n",
    "factorial = 1\n",
    "for i in range(2, number + 1):\n",
    "    factorial *= i\n",
    "\n",
    "print('Factorial:', factorial)"
   ]
  },
  {
   "cell_type": "code",
   "execution_count": null,
   "id": "3a976b30-f07c-4587-bba9-3e8d942677d2",
   "metadata": {},
   "outputs": [],
   "source": []
  },
  {
   "cell_type": "code",
   "execution_count": 62,
   "id": "713ba8c4-e1a3-4ebe-8fd8-c5405dada5b2",
   "metadata": {},
   "outputs": [
    {
     "name": "stdin",
     "output_type": "stream",
     "text": [
      "Number:  2\n"
     ]
    },
    {
     "name": "stdout",
     "output_type": "stream",
     "text": [
      "2 is Prime.\n"
     ]
    }
   ],
   "source": [
    "# 6. Prime Number\n",
    "\n",
    "number = int(input('Number: '))\n",
    "\n",
    "if number == 0 or number == 1:\n",
    "    print(number, 'is not Prime.')\n",
    "else:\n",
    "    for i in range(2, (number // 2) + 1):\n",
    "        if number % i == 0:\n",
    "            print(number, 'is not Prime.')\n",
    "            break\n",
    "    else:\n",
    "        print(number, 'is Prime.')"
   ]
  },
  {
   "cell_type": "code",
   "execution_count": null,
   "id": "690ac807-7e2a-405f-a6da-ed0365f224a1",
   "metadata": {},
   "outputs": [],
   "source": []
  },
  {
   "cell_type": "code",
   "execution_count": 66,
   "id": "73db3808-20ca-419c-b5ac-10c612c42559",
   "metadata": {},
   "outputs": [
    {
     "name": "stdout",
     "output_type": "stream",
     "text": [
      "2 3 5 7 11 13 17 19 23 29 31 37 41 43 47 "
     ]
    }
   ],
   "source": [
    "for i in range(51):\n",
    "    if i == 0 or i == 1:\n",
    "        continue\n",
    "    for j in range(2, (i // 2) + 1):\n",
    "        if i % j == 0:\n",
    "            break\n",
    "    else:\n",
    "        print(i, end=\" \")"
   ]
  },
  {
   "cell_type": "code",
   "execution_count": null,
   "id": "de69d361-3ef9-4b37-a40c-c42ee41682a1",
   "metadata": {},
   "outputs": [],
   "source": []
  },
  {
   "cell_type": "code",
   "id": "c93ef837-0ec9-418c-b544-867fa1714b80",
   "metadata": {
    "ExecuteTime": {
     "end_time": "2025-09-08T15:43:45.339236Z",
     "start_time": "2025-09-08T15:43:45.332083Z"
    }
   },
   "source": [
    "# 7. Reverse a list\n",
    "numbers = [1, 2, 3, 4, 5]\n",
    "numbers.reverse()\n",
    "print(numbers)"
   ],
   "outputs": [
    {
     "name": "stdout",
     "output_type": "stream",
     "text": [
      "[5, 4, 3, 2, 1]\n"
     ]
    }
   ],
   "execution_count": 67
  },
  {
   "metadata": {
    "ExecuteTime": {
     "end_time": "2025-09-08T15:44:05.860268Z",
     "start_time": "2025-09-08T15:44:05.856141Z"
    }
   },
   "cell_type": "code",
   "source": "",
   "id": "4e7f3c9642e185a8",
   "outputs": [],
   "execution_count": null
  },
  {
   "metadata": {
    "ExecuteTime": {
     "end_time": "2025-09-08T15:45:59.084762Z",
     "start_time": "2025-09-08T15:45:59.075056Z"
    }
   },
   "cell_type": "code",
   "source": [
    "evens = []\n",
    "odds = []\n",
    "for i in range(1, 51):\n",
    "    if i % 2 == 0:\n",
    "        evens.append(i)\n",
    "    else:\n",
    "        odds.append(i)\n",
    "\n",
    "print('Evens:', evens)\n",
    "print('Odds:', odds)"
   ],
   "id": "45858ef7a5bdb823",
   "outputs": [
    {
     "name": "stdout",
     "output_type": "stream",
     "text": [
      "Evens: [2, 4, 6, 8, 10, 12, 14, 16, 18, 20, 22, 24, 26, 28, 30, 32, 34, 36, 38, 40, 42, 44, 46, 48, 50]\n",
      "Odds: [1, 3, 5, 7, 9, 11, 13, 15, 17, 19, 21, 23, 25, 27, 29, 31, 33, 35, 37, 39, 41, 43, 45, 47, 49]\n"
     ]
    }
   ],
   "execution_count": 69
  },
  {
   "metadata": {},
   "cell_type": "code",
   "outputs": [],
   "execution_count": null,
   "source": "",
   "id": "57ab6b172c2ce8c0"
  },
  {
   "metadata": {
    "ExecuteTime": {
     "end_time": "2025-09-08T15:49:15.937675Z",
     "start_time": "2025-09-08T15:49:15.929244Z"
    }
   },
   "cell_type": "code",
   "source": [
    "primes = []\n",
    "\n",
    "for i in range(2, 101):\n",
    "    for j in range(2, (i // 2) + 1):\n",
    "        if i % j == 0:\n",
    "            break\n",
    "    else:\n",
    "        primes.append(i)\n",
    "\n",
    "print('Primes:', primes)"
   ],
   "id": "674c51ffb40ef15a",
   "outputs": [
    {
     "name": "stdout",
     "output_type": "stream",
     "text": [
      "Primes: [2, 3, 5, 7, 11, 13, 17, 19, 23, 29, 31, 37, 41, 43, 47, 53, 59, 61, 67, 71, 73, 79, 83, 89, 97]\n"
     ]
    }
   ],
   "execution_count": 71
  },
  {
   "metadata": {},
   "cell_type": "code",
   "outputs": [],
   "execution_count": null,
   "source": "",
   "id": "32132354fe2aada"
  },
  {
   "metadata": {
    "ExecuteTime": {
     "end_time": "2025-09-08T15:51:25.012394Z",
     "start_time": "2025-09-08T15:51:25.002254Z"
    }
   },
   "cell_type": "code",
   "source": [
    "numbers = [1, 2, 1, 4, 2]\n",
    "uniques = []\n",
    "\n",
    "for i in numbers:\n",
    "    if i not in uniques:\n",
    "        uniques.append(i)\n",
    "\n",
    "print('Uniques:', uniques)"
   ],
   "id": "bc11b3640867c5f2",
   "outputs": [
    {
     "name": "stdout",
     "output_type": "stream",
     "text": [
      "Uniques: [1, 2, 4]\n"
     ]
    }
   ],
   "execution_count": 73
  },
  {
   "metadata": {
    "ExecuteTime": {
     "end_time": "2025-09-08T15:54:15.054381Z",
     "start_time": "2025-09-08T15:54:15.050159Z"
    }
   },
   "cell_type": "code",
   "source": "",
   "id": "b8e269a32d7913d8",
   "outputs": [],
   "execution_count": null
  },
  {
   "metadata": {
    "ExecuteTime": {
     "end_time": "2025-09-08T15:53:32.485511Z",
     "start_time": "2025-09-08T15:53:32.480637Z"
    }
   },
   "cell_type": "code",
   "source": [
    "text = 'hello'\n",
    "\n",
    "reversed = text[-1::-1]\n",
    "print(reversed)"
   ],
   "id": "be59adb52d8881e4",
   "outputs": [
    {
     "name": "stdout",
     "output_type": "stream",
     "text": [
      "olleh\n"
     ]
    }
   ],
   "execution_count": 75
  },
  {
   "metadata": {},
   "cell_type": "code",
   "outputs": [],
   "execution_count": null,
   "source": "",
   "id": "9da2e9901baef843"
  },
  {
   "metadata": {},
   "cell_type": "code",
   "outputs": [],
   "execution_count": null,
   "source": "",
   "id": "a71c7c0bc3d1134c"
  }
 ],
 "metadata": {
  "kernelspec": {
   "display_name": "Python 3 (ipykernel)",
   "language": "python",
   "name": "python3"
  },
  "language_info": {
   "codemirror_mode": {
    "name": "ipython",
    "version": 3
   },
   "file_extension": ".py",
   "mimetype": "text/x-python",
   "name": "python",
   "nbconvert_exporter": "python",
   "pygments_lexer": "ipython3",
   "version": "3.13.7"
  }
 },
 "nbformat": 4,
 "nbformat_minor": 5
}
