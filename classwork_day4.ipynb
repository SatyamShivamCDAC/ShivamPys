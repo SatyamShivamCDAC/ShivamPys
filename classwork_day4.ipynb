{
 "cells": [
  {
   "cell_type": "code",
   "id": "initial_id",
   "metadata": {
    "collapsed": true,
    "ExecuteTime": {
     "end_time": "2025-09-11T03:06:54.954898Z",
     "start_time": "2025-09-11T03:06:54.946908Z"
    }
   },
   "source": [
    "from jinja2.compiler import operators\n",
    "from jupyter_server.auth import passwd\n",
    "\n",
    "\n",
    "def even_odd(number):\n",
    "    return number % 2 == 0\n",
    "\n",
    "\n",
    "numberInput = 13\n",
    "print(even_odd(numberInput))"
   ],
   "outputs": [
    {
     "name": "stdout",
     "output_type": "stream",
     "text": [
      "False\n"
     ]
    }
   ],
   "execution_count": 3
  },
  {
   "metadata": {},
   "cell_type": "code",
   "outputs": [],
   "execution_count": null,
   "source": "",
   "id": "a10e6f077c73f877"
  },
  {
   "metadata": {
    "ExecuteTime": {
     "end_time": "2025-09-11T03:08:53.778014Z",
     "start_time": "2025-09-11T03:08:53.768366Z"
    }
   },
   "cell_type": "code",
   "source": [
    "def factorial(number):\n",
    "    result = 1\n",
    "    for i in range(2, number + 1):\n",
    "        result *= i\n",
    "\n",
    "    return result\n",
    "\n",
    "\n",
    "numberInput = 5\n",
    "print(factorial(numberInput))\n"
   ],
   "id": "d55343329fe3020c",
   "outputs": [
    {
     "name": "stdout",
     "output_type": "stream",
     "text": [
      "120\n"
     ]
    }
   ],
   "execution_count": 7
  },
  {
   "metadata": {},
   "cell_type": "code",
   "outputs": [],
   "execution_count": null,
   "source": "",
   "id": "c9cbe032c8626e8b"
  },
  {
   "metadata": {
    "ExecuteTime": {
     "end_time": "2025-09-11T03:12:07.278500Z",
     "start_time": "2025-09-11T03:12:07.269195Z"
    }
   },
   "cell_type": "code",
   "source": [
    "def prime(number):\n",
    "    if number == 0 or number == 1:\n",
    "        return False\n",
    "\n",
    "    is_prime = True\n",
    "    for i in range(2, (number // 2) + 1):\n",
    "        if number % i == 0:\n",
    "            is_prime = False\n",
    "\n",
    "    return is_prime\n",
    "\n",
    "\n",
    "numberInput = 3\n",
    "print(prime(numberInput))"
   ],
   "id": "55a7f80b1f80d9e6",
   "outputs": [
    {
     "name": "stdout",
     "output_type": "stream",
     "text": [
      "True\n"
     ]
    }
   ],
   "execution_count": 14
  },
  {
   "metadata": {},
   "cell_type": "code",
   "outputs": [],
   "execution_count": null,
   "source": "",
   "id": "f23ade4dd8498b78"
  },
  {
   "metadata": {
    "ExecuteTime": {
     "end_time": "2025-09-11T03:13:27.099317Z",
     "start_time": "2025-09-11T03:13:27.089537Z"
    }
   },
   "cell_type": "code",
   "source": [
    "def add_upto(number):\n",
    "    addition = 0\n",
    "    for i in range(number + 1):\n",
    "        addition += i\n",
    "\n",
    "    return addition\n",
    "\n",
    "\n",
    "numberInput = 5\n",
    "print(add_upto(5))"
   ],
   "id": "3a1cc1b8d9ee76a1",
   "outputs": [
    {
     "name": "stdout",
     "output_type": "stream",
     "text": [
      "15\n"
     ]
    }
   ],
   "execution_count": 15
  },
  {
   "metadata": {
    "ExecuteTime": {
     "end_time": "2025-09-11T03:26:47.944567Z",
     "start_time": "2025-09-11T03:26:47.937064Z"
    }
   },
   "cell_type": "code",
   "source": [
    "\n",
    "# Positional Arguments\n",
    "\n",
    "def add(number1, number2):\n",
    "    return number1 + number2\n",
    "\n",
    "\n",
    "print(add(4, 3))"
   ],
   "id": "3dbf5adece1c98ab",
   "outputs": [
    {
     "name": "stdout",
     "output_type": "stream",
     "text": [
      "7\n"
     ]
    }
   ],
   "execution_count": 16
  },
  {
   "metadata": {
    "ExecuteTime": {
     "end_time": "2025-09-11T03:28:09.884986Z",
     "start_time": "2025-09-11T03:28:09.874693Z"
    }
   },
   "cell_type": "code",
   "source": [
    "\n",
    "# Named Arguments\n",
    "\n",
    "def say_hello(first_name, last_name):\n",
    "    print(\"Hello,\", first_name, last_name)\n",
    "\n",
    "\n",
    "say_hello('Shivam', 'Pawar')\n",
    "say_hello(last_name='Pawar', first_name='Shivam')"
   ],
   "id": "6b488a562eb687dc",
   "outputs": [
    {
     "name": "stdout",
     "output_type": "stream",
     "text": [
      "Hello, Shivam Pawar\n",
      "Hello, Shivam Pawar\n"
     ]
    }
   ],
   "execution_count": 17
  },
  {
   "metadata": {
    "ExecuteTime": {
     "end_time": "2025-09-11T03:29:16.048986Z",
     "start_time": "2025-09-11T03:29:16.040731Z"
    }
   },
   "cell_type": "code",
   "source": [
    "\n",
    "# Default Arguments\n",
    "\n",
    "def add(number1 = 0, number2 = 0):\n",
    "    return number1 + number2\n",
    "\n",
    "\n",
    "print(add())\n",
    "print(add(5))\n",
    "print(add(5, 2))"
   ],
   "id": "b0d910af946559c3",
   "outputs": [
    {
     "name": "stdout",
     "output_type": "stream",
     "text": [
      "1\n",
      "6\n",
      "7\n"
     ]
    }
   ],
   "execution_count": 19
  },
  {
   "metadata": {
    "ExecuteTime": {
     "end_time": "2025-09-11T03:36:20.699786Z",
     "start_time": "2025-09-11T03:36:20.693307Z"
    }
   },
   "cell_type": "code",
   "source": [
    "\n",
    "# Variable Length Arguments\n",
    "\n",
    "def add_numbers(numbers):\n",
    "    addition = 0\n",
    "    for number in numbers:\n",
    "        addition += number\n",
    "    return addition\n",
    "\n",
    "\n",
    "print(add_numbers([1, 2, 3, 4, 5]))"
   ],
   "id": "6997157d47b57e6",
   "outputs": [
    {
     "name": "stdout",
     "output_type": "stream",
     "text": [
      "15\n"
     ]
    }
   ],
   "execution_count": 20
  },
  {
   "metadata": {
    "ExecuteTime": {
     "end_time": "2025-09-11T03:37:36.237900Z",
     "start_time": "2025-09-11T03:37:36.228884Z"
    }
   },
   "cell_type": "code",
   "source": [
    "\n",
    "def add_numbers(*numbers):\n",
    "    addition = 0\n",
    "    for number in numbers:\n",
    "        addition += number\n",
    "    return addition\n",
    "\n",
    "\n",
    "print(add_numbers(1, 2, 3, 4, 5))"
   ],
   "id": "c2941f36617de2d9",
   "outputs": [
    {
     "name": "stdout",
     "output_type": "stream",
     "text": [
      "15\n"
     ]
    }
   ],
   "execution_count": 21
  },
  {
   "metadata": {
    "ExecuteTime": {
     "end_time": "2025-09-11T03:43:31.750640Z",
     "start_time": "2025-09-11T03:43:31.732628Z"
    }
   },
   "cell_type": "code",
   "source": [
    "cipher_key = {'a':'n', 'b':'o', 'c':'p', 'd':'q', 'e':'r', 'f':'s', 'g':'t', 'h':'u', 'i':'v', 'j':'w', 'k':'x', 'l':'y', 'm':'z', 'n':'a','o':'b', 'p':'c', 'q':'d', 'r':'e', 's':'f', 't':'g', 'u':'h', 'v':'i', 'w':'j', 'x':'k', 'y':'l', 'z':'m', 'A':'N', 'B':'O', 'C':'P', 'D':'Q','E':'R', 'F':'S', 'G':'T', 'H':'U', 'I':'V', 'J':'W', 'K':'X', 'L':'Y', 'M':'Z', 'N':'A', 'O':'B', 'P':'C', 'Q':'D', 'R':'E', 'S':'F', 'T':'G', 'U':'H', 'V':'I', 'W':'J', 'X':'K', 'Y':'L', 'Z':'M'}\n",
    "\n",
    "def encode(text):\n",
    "    encoded = []\n",
    "    for char in text:\n",
    "        if not char.isalpha():\n",
    "            encoded.append(char)\n",
    "        else:\n",
    "            encoded.append(cipher_key.get(char))\n",
    "\n",
    "    return ''.join(encoded)\n",
    "\n",
    "\n",
    "def decode(text):\n",
    "    decoded = []\n",
    "    for char in text:\n",
    "        if not char.isalpha():\n",
    "            decoded.append(char)\n",
    "        else:\n",
    "            decoded.append(cipher_key.get(char))\n",
    "    return ''.join(decoded)\n",
    "\n",
    "\n",
    "encoded = encode('abc ABC')\n",
    "decoded = decode(encoded)\n",
    "\n",
    "print(encoded)\n",
    "print(decoded)"
   ],
   "id": "c35d4964e2f6571e",
   "outputs": [
    {
     "name": "stdout",
     "output_type": "stream",
     "text": [
      "nop NOP\n",
      "abc ABC\n"
     ]
    }
   ],
   "execution_count": 23
  },
  {
   "metadata": {
    "ExecuteTime": {
     "end_time": "2025-09-11T04:02:31.984104Z",
     "start_time": "2025-09-11T04:02:31.975970Z"
    }
   },
   "cell_type": "code",
   "source": [
    "\n",
    "def add_range(start = 0, end = 0):\n",
    "    addition = 0\n",
    "    for i in range(start, end + 1):\n",
    "        addition += i\n",
    "    return addition\n",
    "\n",
    "\n",
    "print(add_range(1, 5))"
   ],
   "id": "15639c1ce3ae5bbe",
   "outputs": [
    {
     "name": "stdout",
     "output_type": "stream",
     "text": [
      "15\n"
     ]
    }
   ],
   "execution_count": 26
  },
  {
   "metadata": {
    "ExecuteTime": {
     "end_time": "2025-09-11T04:12:32.845256Z",
     "start_time": "2025-09-11T04:12:32.836956Z"
    }
   },
   "cell_type": "code",
   "source": [
    "\n",
    "def prime_numbers():\n",
    "    primes = []\n",
    "    for i in range(0, 100):\n",
    "        if prime(i):\n",
    "            primes.append(i)\n",
    "    return primes\n",
    "\n",
    "print(prime_numbers())"
   ],
   "id": "ae3fb109a9fb63c3",
   "outputs": [
    {
     "name": "stdout",
     "output_type": "stream",
     "text": [
      "[2, 3, 5, 7, 11, 13, 17, 19, 23, 29, 31, 37, 41, 43, 47, 53, 59, 61, 67, 71, 73, 79, 83, 89, 97]\n"
     ]
    }
   ],
   "execution_count": 33
  },
  {
   "metadata": {
    "ExecuteTime": {
     "end_time": "2025-09-11T05:53:06.797671Z",
     "start_time": "2025-09-11T05:53:06.788062Z"
    }
   },
   "cell_type": "code",
   "source": [
    "\n",
    "def prime_number(count):\n",
    "    primes = []\n",
    "    for i in range(0, 101):\n",
    "        if count == 0:\n",
    "            return primes\n",
    "        if prime(i):\n",
    "            primes.append(i)\n",
    "            count -= 1\n",
    "    return primes\n",
    "\n",
    "\n",
    "print(prime_number(3))\n"
   ],
   "id": "d8e90481be51c242",
   "outputs": [
    {
     "name": "stdout",
     "output_type": "stream",
     "text": [
      "[2, 3, 5]\n"
     ]
    }
   ],
   "execution_count": 50
  },
  {
   "metadata": {
    "ExecuteTime": {
     "end_time": "2025-09-11T04:27:47.251842Z",
     "start_time": "2025-09-11T04:27:47.243493Z"
    }
   },
   "cell_type": "code",
   "source": [
    "\n",
    "# Key-worded Length Arguments\n",
    "\n",
    "def total_marks(subjects):\n",
    "    total = 0\n",
    "    for marks in subjects.values():\n",
    "        total += marks\n",
    "    return total\n",
    "\n",
    "\n",
    "print(total_marks({'Math': 50, 'English': 50, 'CS': 50}))"
   ],
   "id": "68e52f3fa940f988",
   "outputs": [
    {
     "name": "stdout",
     "output_type": "stream",
     "text": [
      "150\n"
     ]
    }
   ],
   "execution_count": 48
  },
  {
   "metadata": {
    "ExecuteTime": {
     "end_time": "2025-09-11T04:20:34.591992Z",
     "start_time": "2025-09-11T04:20:34.584773Z"
    }
   },
   "cell_type": "code",
   "source": [
    "def total_marks(**subjects):\n",
    "    total = 0\n",
    "    for marks in subjects.values():\n",
    "        total += marks\n",
    "    return total\n",
    "\n",
    "\n",
    "print(total_marks(Math=50, English=50, CS=50))"
   ],
   "id": "a0fa59aaf62dc60c",
   "outputs": [
    {
     "name": "stdout",
     "output_type": "stream",
     "text": [
      "150\n"
     ]
    }
   ],
   "execution_count": 41
  },
  {
   "metadata": {
    "ExecuteTime": {
     "end_time": "2025-09-11T04:27:18.447996Z",
     "start_time": "2025-09-11T04:27:18.437869Z"
    }
   },
   "cell_type": "code",
   "source": [
    "\n",
    "def evens_odds(choice):\n",
    "    result = []\n",
    "    if choice.lower() == 'even':\n",
    "        evens = []\n",
    "        for i in range(1, 100):\n",
    "            if even_odd(i):\n",
    "                result.append(i)\n",
    "\n",
    "    elif choice.lower() == 'odd':\n",
    "        odds = []\n",
    "        for i in range(1, 100):\n",
    "            if not even_odd(i):\n",
    "                result.append(i)\n",
    "\n",
    "    return result\n",
    "\n",
    "\n",
    "print(evens_odds('rer'))"
   ],
   "id": "a665e4d0b404787d",
   "outputs": [
    {
     "name": "stdout",
     "output_type": "stream",
     "text": [
      "[]\n"
     ]
    }
   ],
   "execution_count": 46
  },
  {
   "metadata": {
    "ExecuteTime": {
     "end_time": "2025-09-11T06:07:24.736674Z",
     "start_time": "2025-09-11T06:07:24.724828Z"
    }
   },
   "cell_type": "code",
   "source": [
    "\n",
    "def sublists_of_n(numbers, n):\n",
    "    new_list = []\n",
    "    small_list = []\n",
    "\n",
    "    for i in range(len(numbers)):\n",
    "        if (i + 1) % n == 0:\n",
    "            small_list.append(numbers[i])\n",
    "            new_list.append(small_list)\n",
    "            small_list = []\n",
    "        else:\n",
    "            small_list.append(numbers[i])\n",
    "    new_list.append(small_list)\n",
    "\n",
    "    return new_list\n",
    "\n",
    "\n",
    "print(sublists_of_n([1, 2, 3, 4], 4))"
   ],
   "id": "c08d9a022d7dc136",
   "outputs": [
    {
     "name": "stdout",
     "output_type": "stream",
     "text": [
      "[[1, 2, 3, 4], []]\n"
     ]
    }
   ],
   "execution_count": 57
  },
  {
   "metadata": {
    "ExecuteTime": {
     "end_time": "2025-09-11T06:50:43.006683Z",
     "start_time": "2025-09-11T06:50:42.984148Z"
    }
   },
   "cell_type": "code",
   "source": [
    "\n",
    "\n",
    "expression = '15 / 3 * 2 + 5 - -3'\n",
    "values = expression.split(' ')\n",
    "operations = []\n",
    "\n",
    "print(values)\n",
    "\n",
    "while True:\n",
    "    if values.count('/') != 0:\n",
    "        index = values.index('/')\n",
    "        result = float(values[index - 1]) / float(values[index + 1])\n",
    "        del values[index + 1], values[index]\n",
    "        values[index - 1] = result\n",
    "        print(result)\n",
    "    elif values.count('*') != 0:\n",
    "        index = values.index('*')\n",
    "        result = float(values[index - 1]) * float(values[index + 1])\n",
    "        del values[index + 1], values[index]\n",
    "        values[index - 1] = result\n",
    "        print(result)\n",
    "    elif values.count('+') != 0:\n",
    "        index = values.index('+')\n",
    "        result = float(values[index - 1]) + float(values[index + 1])\n",
    "        del values[index + 1], values[index]\n",
    "        values[index - 1] = result\n",
    "        print(result)\n",
    "    elif values.count('-') != 0:\n",
    "        index = values.index('-')\n",
    "        result = float(values[index - 1]) - float(values[index + 1])\n",
    "        del values[index + 1], values[index]\n",
    "        values[index - 1] = result\n",
    "        print(result)\n",
    "    else:\n",
    "        break\n",
    "\n",
    "\n",
    "print(values)"
   ],
   "id": "22b6d5353705df61",
   "outputs": [
    {
     "name": "stdout",
     "output_type": "stream",
     "text": [
      "['15', '/', '3', '*', '2', '+', '5', '-', '-3']\n",
      "5.0\n",
      "10.0\n",
      "15.0\n",
      "18.0\n",
      "[18.0]\n"
     ]
    }
   ],
   "execution_count": 87
  },
  {
   "metadata": {
    "ExecuteTime": {
     "end_time": "2025-09-11T06:28:04.749972Z",
     "start_time": "2025-09-11T06:28:04.745055Z"
    }
   },
   "cell_type": "code",
   "source": "",
   "id": "49c140622bc0e7ac",
   "outputs": [],
   "execution_count": null
  },
  {
   "metadata": {},
   "cell_type": "code",
   "outputs": [],
   "execution_count": null,
   "source": "",
   "id": "853782681609e783"
  }
 ],
 "metadata": {
  "kernelspec": {
   "display_name": "Python 3",
   "language": "python",
   "name": "python3"
  },
  "language_info": {
   "codemirror_mode": {
    "name": "ipython",
    "version": 2
   },
   "file_extension": ".py",
   "mimetype": "text/x-python",
   "name": "python",
   "nbconvert_exporter": "python",
   "pygments_lexer": "ipython2",
   "version": "2.7.6"
  }
 },
 "nbformat": 4,
 "nbformat_minor": 5
}
