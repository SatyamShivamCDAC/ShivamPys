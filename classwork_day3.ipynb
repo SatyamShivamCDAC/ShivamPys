{
 "cells": [
  {
   "cell_type": "code",
   "id": "initial_id",
   "metadata": {
    "collapsed": true,
    "ExecuteTime": {
     "end_time": "2025-09-10T05:16:52.155677Z",
     "start_time": "2025-09-10T05:16:52.148266Z"
    }
   },
   "source": [
    "d = {}\n",
    "print(d)\n",
    "print(type(d))"
   ],
   "outputs": [
    {
     "name": "stdout",
     "output_type": "stream",
     "text": [
      "{}\n",
      "<class 'dict'>\n"
     ]
    }
   ],
   "execution_count": 5
  },
  {
   "metadata": {
    "ExecuteTime": {
     "end_time": "2025-09-10T05:17:36.516063Z",
     "start_time": "2025-09-10T05:17:36.508786Z"
    }
   },
   "cell_type": "code",
   "source": [
    "students = {101: 'Shivam', 103: 'Satyam', 102: 'Piyush'}\n",
    "print(students)"
   ],
   "id": "9e9bf581f1ff35b9",
   "outputs": [
    {
     "name": "stdout",
     "output_type": "stream",
     "text": [
      "{101: 'Shivam', 103: 'Satyam', 102: 'Piyush'}\n"
     ]
    }
   ],
   "execution_count": 6
  },
  {
   "metadata": {
    "ExecuteTime": {
     "end_time": "2025-09-10T05:20:17.206582Z",
     "start_time": "2025-09-10T05:20:17.199583Z"
    }
   },
   "cell_type": "code",
   "source": [
    "students = {101: 'Shivam', 102: 'Piyush', 103: 'Satyam'}\n",
    "print(students)"
   ],
   "id": "fde8a9f9b9e3781a",
   "outputs": [
    {
     "name": "stdout",
     "output_type": "stream",
     "text": [
      "{101: 'Shivam', 102: 'Piyush', 103: 'Satyam'}\n"
     ]
    }
   ],
   "execution_count": 16
  },
  {
   "metadata": {
    "ExecuteTime": {
     "end_time": "2025-09-10T05:19:30.421276Z",
     "start_time": "2025-09-10T05:19:30.172845Z"
    }
   },
   "cell_type": "code",
   "source": [
    "print(students[101])\n",
    "print(students[106])"
   ],
   "id": "abf130471f35e714",
   "outputs": [
    {
     "name": "stdout",
     "output_type": "stream",
     "text": [
      "Shivam\n"
     ]
    },
    {
     "ename": "KeyError",
     "evalue": "106",
     "output_type": "error",
     "traceback": [
      "\u001B[31m---------------------------------------------------------------------------\u001B[39m",
      "\u001B[31mKeyError\u001B[39m                                  Traceback (most recent call last)",
      "\u001B[36mCell\u001B[39m\u001B[36m \u001B[39m\u001B[32mIn[13]\u001B[39m\u001B[32m, line 2\u001B[39m\n\u001B[32m      1\u001B[39m \u001B[38;5;28mprint\u001B[39m(students[\u001B[32m101\u001B[39m])\n\u001B[32m----> \u001B[39m\u001B[32m2\u001B[39m \u001B[38;5;28mprint\u001B[39m(\u001B[43mstudents\u001B[49m\u001B[43m[\u001B[49m\u001B[32;43m106\u001B[39;49m\u001B[43m]\u001B[49m)\n",
      "\u001B[31mKeyError\u001B[39m: 106"
     ]
    }
   ],
   "execution_count": 13
  },
  {
   "metadata": {
    "ExecuteTime": {
     "end_time": "2025-09-10T05:20:19.954476Z",
     "start_time": "2025-09-10T05:20:19.947586Z"
    }
   },
   "cell_type": "code",
   "source": "print(len(students))",
   "id": "751459656414ca44",
   "outputs": [
    {
     "name": "stdout",
     "output_type": "stream",
     "text": [
      "3\n"
     ]
    }
   ],
   "execution_count": 17
  },
  {
   "metadata": {
    "ExecuteTime": {
     "end_time": "2025-09-10T05:21:09.272480Z",
     "start_time": "2025-09-10T05:21:09.265105Z"
    }
   },
   "cell_type": "code",
   "source": [
    "for student in students:\n",
    "    print(student, students.get(student))\n",
    "    print(student, students[student])"
   ],
   "id": "ad8839c14bd9e0e0",
   "outputs": [
    {
     "name": "stdout",
     "output_type": "stream",
     "text": [
      "101 Shivam\n",
      "101 Shivam\n",
      "102 Piyush\n",
      "102 Piyush\n",
      "103 Satyam\n",
      "103 Satyam\n"
     ]
    }
   ],
   "execution_count": 20
  },
  {
   "metadata": {
    "ExecuteTime": {
     "end_time": "2025-09-10T05:29:38.279904Z",
     "start_time": "2025-09-10T05:29:38.272663Z"
    }
   },
   "cell_type": "code",
   "source": [
    "for key in students.keys():\n",
    "    print(key, students.get(key))"
   ],
   "id": "5a946d195355647a",
   "outputs": [
    {
     "name": "stdout",
     "output_type": "stream",
     "text": [
      "101 Shivam\n",
      "102 Piyush\n",
      "103 Satyam\n"
     ]
    }
   ],
   "execution_count": 21
  },
  {
   "metadata": {
    "ExecuteTime": {
     "end_time": "2025-09-10T05:29:55.232902Z",
     "start_time": "2025-09-10T05:29:55.225819Z"
    }
   },
   "cell_type": "code",
   "source": [
    "for value in students.values():\n",
    "    print(value)"
   ],
   "id": "c91b792d94e136f9",
   "outputs": [
    {
     "name": "stdout",
     "output_type": "stream",
     "text": [
      "Shivam\n",
      "Piyush\n",
      "Satyam\n"
     ]
    }
   ],
   "execution_count": 22
  },
  {
   "metadata": {
    "ExecuteTime": {
     "end_time": "2025-09-10T05:33:33.249570Z",
     "start_time": "2025-09-10T05:33:33.241129Z"
    }
   },
   "cell_type": "code",
   "source": [
    "for key, value in students.items():\n",
    "    print(key, '=>', value)\n",
    "\n",
    "\n",
    "studentsCopy = students.copy()\n",
    "print(studentsCopy)\n",
    "\n",
    "studentsCopy.clear()\n",
    "print(studentsCopy)"
   ],
   "id": "47f23120a172a0b8",
   "outputs": [
    {
     "name": "stdout",
     "output_type": "stream",
     "text": [
      "101 => Shivam\n",
      "102 => Piyush\n",
      "103 => Satyam\n",
      "{101: 'Shivam', 102: 'Piyush', 103: 'Satyam'}\n",
      "{}\n"
     ]
    }
   ],
   "execution_count": 29
  },
  {
   "metadata": {
    "ExecuteTime": {
     "end_time": "2025-09-10T05:43:42.883647Z",
     "start_time": "2025-09-10T05:43:42.873070Z"
    }
   },
   "cell_type": "code",
   "source": [
    "\n",
    "employees = {'A101': 'Satyam', 'A102': 'Piyush', 'A103': 'Umang', 'A104': 'Shivam'}\n",
    "\n",
    "employees['A105'] = 'Tejas'\n",
    "\n",
    "print(employees)\n",
    "\n",
    "employees.pop('A105')\n",
    "\n",
    "print(employees)\n",
    "\n",
    "employees.popitem()\n",
    "\n",
    "print(employees)"
   ],
   "id": "dfb5ca44a539160f",
   "outputs": [
    {
     "name": "stdout",
     "output_type": "stream",
     "text": [
      "{'A101': 'Satyam', 'A102': 'Piyush', 'A103': 'Umang', 'A104': 'Shivam', 'A105': 'Tejas'}\n",
      "{'A101': 'Satyam', 'A102': 'Piyush', 'A103': 'Umang', 'A104': 'Shivam'}\n",
      "{'A101': 'Satyam', 'A102': 'Piyush', 'A103': 'Umang'}\n"
     ]
    }
   ],
   "execution_count": 32
  },
  {
   "metadata": {
    "ExecuteTime": {
     "end_time": "2025-09-10T06:00:59.060662Z",
     "start_time": "2025-09-10T06:00:59.049918Z"
    }
   },
   "cell_type": "code",
   "source": [
    "\n",
    "keys = [1, 2, 3, 4, 5]\n",
    "values = ['Watch', 'Mobile', 'Pen', 'Book']\n",
    "\n",
    "items = {}.fromkeys(keys)\n",
    "print(items)\n",
    "\n",
    "items = {}.fromkeys(keys, 0)\n",
    "print(items)\n",
    "\n",
    "items = dict(zip(keys, values))\n",
    "print(items)"
   ],
   "id": "7ff5dd56449ead81",
   "outputs": [
    {
     "name": "stdout",
     "output_type": "stream",
     "text": [
      "{1: None, 2: None, 3: None, 4: None, 5: None}\n",
      "{1: 0, 2: 0, 3: 0, 4: 0, 5: 0}\n",
      "{1: 'Book', 2: 'Watch', 3: 'Pen', 4: 'Mobile'}\n"
     ]
    }
   ],
   "execution_count": 50
  },
  {
   "metadata": {
    "ExecuteTime": {
     "end_time": "2025-09-10T05:48:40.109716Z",
     "start_time": "2025-09-10T05:48:40.098773Z"
    }
   },
   "cell_type": "code",
   "source": [
    "students = {101: 'Shivam', 103: 'Satyam', 102: 'Piyush'}\n",
    "\n",
    "students.setdefault(104, 'Tejas')\n",
    "\n",
    "students.setdefault(104, 'Umang')"
   ],
   "id": "873da3bc08a1f5c5",
   "outputs": [
    {
     "data": {
      "text/plain": [
       "'Tejas'"
      ]
     },
     "execution_count": 40,
     "metadata": {},
     "output_type": "execute_result"
    }
   ],
   "execution_count": 40
  },
  {
   "metadata": {
    "ExecuteTime": {
     "end_time": "2025-09-10T05:51:45.760956Z",
     "start_time": "2025-09-10T05:51:45.755776Z"
    }
   },
   "cell_type": "code",
   "source": "# students.update()",
   "id": "57a106bdbf32e92f",
   "outputs": [],
   "execution_count": 42
  },
  {
   "metadata": {
    "ExecuteTime": {
     "end_time": "2025-09-10T05:54:13.567729Z",
     "start_time": "2025-09-10T05:54:13.559421Z"
    }
   },
   "cell_type": "code",
   "source": [
    "\n",
    "text = 'Hello, how are you! Hello, who are you! Hello, why are you here?'\n",
    "\n",
    "words = text.split(' ')\n",
    "countOfWords = {}\n",
    "for word in words:\n",
    "    countOfWords[word] = words.count(word)\n",
    "\n",
    "print(countOfWords)"
   ],
   "id": "6cde44ae7da4ce56",
   "outputs": [
    {
     "name": "stdout",
     "output_type": "stream",
     "text": [
      "{'Hello,': 3, 'how': 1, 'are': 3, 'you!': 2, 'who': 1, 'why': 1, 'you': 1, 'here?': 1}\n"
     ]
    }
   ],
   "execution_count": 45
  },
  {
   "metadata": {},
   "cell_type": "code",
   "outputs": [],
   "execution_count": null,
   "source": "",
   "id": "2a33aacfb08dd5bf"
  },
  {
   "metadata": {
    "ExecuteTime": {
     "end_time": "2025-09-10T06:04:30.327805Z",
     "start_time": "2025-09-10T06:04:30.320054Z"
    }
   },
   "cell_type": "code",
   "source": [
    "numbers = (10, 20, 30, 40, 50)\n",
    "print(numbers)\n",
    "print(numbers[0])\n",
    "print(numbers[-1])\n",
    "print(numbers[2:])"
   ],
   "id": "48865c2c150a612c",
   "outputs": [
    {
     "name": "stdout",
     "output_type": "stream",
     "text": [
      "(10, 20, 30, 40, 50)\n",
      "10\n",
      "50\n",
      "(30, 40, 50)\n"
     ]
    }
   ],
   "execution_count": 53
  },
  {
   "metadata": {
    "ExecuteTime": {
     "end_time": "2025-09-10T06:04:46.780426Z",
     "start_time": "2025-09-10T06:04:46.773485Z"
    }
   },
   "cell_type": "code",
   "source": [
    "for number in numbers:\n",
    "    print(number, end=' ')"
   ],
   "id": "aea2e8553932051b",
   "outputs": [
    {
     "name": "stdout",
     "output_type": "stream",
     "text": [
      "10 20 30 40 50 "
     ]
    }
   ],
   "execution_count": 54
  },
  {
   "metadata": {
    "ExecuteTime": {
     "end_time": "2025-09-10T06:05:16.096479Z",
     "start_time": "2025-09-10T06:05:16.042760Z"
    }
   },
   "cell_type": "code",
   "source": "numbers[0] = 11;",
   "id": "a23929992996e4c5",
   "outputs": [
    {
     "ename": "TypeError",
     "evalue": "'tuple' object does not support item assignment",
     "output_type": "error",
     "traceback": [
      "\u001B[31m---------------------------------------------------------------------------\u001B[39m",
      "\u001B[31mTypeError\u001B[39m                                 Traceback (most recent call last)",
      "\u001B[36mCell\u001B[39m\u001B[36m \u001B[39m\u001B[32mIn[55]\u001B[39m\u001B[32m, line 1\u001B[39m\n\u001B[32m----> \u001B[39m\u001B[32m1\u001B[39m \u001B[43mnumbers\u001B[49m\u001B[43m[\u001B[49m\u001B[32;43m0\u001B[39;49m\u001B[43m]\u001B[49m = \u001B[32m11\u001B[39m;\n",
      "\u001B[31mTypeError\u001B[39m: 'tuple' object does not support item assignment"
     ]
    }
   ],
   "execution_count": 55
  },
  {
   "metadata": {
    "ExecuteTime": {
     "end_time": "2025-09-10T06:07:51.233890Z",
     "start_time": "2025-09-10T06:07:51.227061Z"
    }
   },
   "cell_type": "code",
   "source": [
    "\n",
    "numbers = (1, 2, 3, 4, 1, 2, 4)\n",
    "print(numbers.count(2))"
   ],
   "id": "ab397246643b96f7",
   "outputs": [
    {
     "name": "stdout",
     "output_type": "stream",
     "text": [
      "2\n"
     ]
    }
   ],
   "execution_count": 65
  },
  {
   "metadata": {
    "ExecuteTime": {
     "end_time": "2025-09-10T06:07:55.934146Z",
     "start_time": "2025-09-10T06:07:55.865768Z"
    }
   },
   "cell_type": "code",
   "source": "print(numbers.index(3, 3))",
   "id": "5ab8a90efa1401bb",
   "outputs": [
    {
     "ename": "ValueError",
     "evalue": "tuple.index(x): x not in tuple",
     "output_type": "error",
     "traceback": [
      "\u001B[31m---------------------------------------------------------------------------\u001B[39m",
      "\u001B[31mValueError\u001B[39m                                Traceback (most recent call last)",
      "\u001B[36mCell\u001B[39m\u001B[36m \u001B[39m\u001B[32mIn[66]\u001B[39m\u001B[32m, line 1\u001B[39m\n\u001B[32m----> \u001B[39m\u001B[32m1\u001B[39m \u001B[38;5;28mprint\u001B[39m(\u001B[43mnumbers\u001B[49m\u001B[43m.\u001B[49m\u001B[43mindex\u001B[49m\u001B[43m(\u001B[49m\u001B[32;43m3\u001B[39;49m\u001B[43m,\u001B[49m\u001B[43m \u001B[49m\u001B[32;43m3\u001B[39;49m\u001B[43m)\u001B[49m)\n",
      "\u001B[31mValueError\u001B[39m: tuple.index(x): x not in tuple"
     ]
    }
   ],
   "execution_count": 66
  },
  {
   "metadata": {
    "ExecuteTime": {
     "end_time": "2025-09-10T06:32:52.359808Z",
     "start_time": "2025-09-10T06:32:52.351586Z"
    }
   },
   "cell_type": "code",
   "source": [
    "keys = [1, 2, 3, 4, 5]\n",
    "values = ['Watch', 'Mobile', 'Pen', 'Book', 'Car']\n",
    "items = {}\n",
    "for i in range(len(keys)):\n",
    "    items[keys[i]] = values[i]\n",
    "\n",
    "print(items)"
   ],
   "id": "30141a04e9d09b5a",
   "outputs": [
    {
     "name": "stdout",
     "output_type": "stream",
     "text": [
      "{1: 'Watch', 2: 'Mobile', 3: 'Pen', 4: 'Book', 5: 'Car'}\n"
     ]
    }
   ],
   "execution_count": 68
  },
  {
   "metadata": {
    "ExecuteTime": {
     "end_time": "2025-09-10T06:34:34.775548Z",
     "start_time": "2025-09-10T06:34:34.767616Z"
    }
   },
   "cell_type": "code",
   "source": [
    "\n",
    "employees = {'A101': 'Satyam', 'A102': 'Piyush', 'A103': 'Umang', 'A104': 'Shivam'}\n",
    "\n",
    "length = 0\n",
    "for key in employees.keys():\n",
    "    length += 1\n",
    "\n",
    "print(length)"
   ],
   "id": "c4de86a1b6448fa7",
   "outputs": [
    {
     "name": "stdout",
     "output_type": "stream",
     "text": [
      "4\n"
     ]
    }
   ],
   "execution_count": 69
  },
  {
   "metadata": {
    "ExecuteTime": {
     "end_time": "2025-09-10T06:38:44.290474Z",
     "start_time": "2025-09-10T06:38:44.281740Z"
    }
   },
   "cell_type": "code",
   "source": [
    "text = \"Hello how are you!, I am Shivam!\"\n",
    "vowels = ['a', 'e', 'i', 'o', 'u']\n",
    "\n",
    "vowels_count = {}.fromkeys(vowels)\n",
    "\n",
    "for char in text:\n",
    "    if char.lower() in vowels:\n",
    "        vowels_count[char.lower()] = text.count(char.lower())\n",
    "\n",
    "print(vowels_count)"
   ],
   "id": "5bc34ce30539862d",
   "outputs": [
    {
     "name": "stdout",
     "output_type": "stream",
     "text": [
      "{'a': 3, 'e': 2, 'i': 1, 'o': 3, 'u': 1}\n"
     ]
    }
   ],
   "execution_count": 73
  },
  {
   "metadata": {
    "ExecuteTime": {
     "end_time": "2025-09-10T06:41:26.129234Z",
     "start_time": "2025-09-10T06:41:26.120462Z"
    }
   },
   "cell_type": "code",
   "source": [
    "\n",
    "employees = {'Shivam': 70000, 'Satyam': 10000, 'Piyush': 2000, 'Umang': 40000}\n",
    "\n",
    "for key, value in employees.items():\n",
    "    if value <= 50000:\n",
    "        employees[key] = value + (value * 0.1)\n",
    "\n",
    "print(employees)"
   ],
   "id": "f8fc814bda5199eb",
   "outputs": [
    {
     "name": "stdout",
     "output_type": "stream",
     "text": [
      "{'Shivam': 70000, 'Satyam': 11000.0, 'Piyush': 2200.0, 'Umang': 44000.0}\n"
     ]
    }
   ],
   "execution_count": 74
  },
  {
   "metadata": {
    "ExecuteTime": {
     "end_time": "2025-09-10T06:51:48.616918Z",
     "start_time": "2025-09-10T06:51:48.608934Z"
    }
   },
   "cell_type": "code",
   "source": [
    "\n",
    "\n",
    "key_values = [('Apple', 5), ('Mango', 10), ('Orange', 8)]\n",
    "fruits = {}\n",
    "\n",
    "for item in key_values:\n",
    "    fruits[item[0]] = item[1]\n",
    "\n",
    "print(fruits)"
   ],
   "id": "26b86b907a17b93a",
   "outputs": [
    {
     "name": "stdout",
     "output_type": "stream",
     "text": [
      "{'Apple': 5, 'Mango': 10, 'Orange': 8}\n"
     ]
    }
   ],
   "execution_count": 76
  },
  {
   "metadata": {
    "ExecuteTime": {
     "end_time": "2025-09-10T06:52:07.391857Z",
     "start_time": "2025-09-10T06:52:07.386027Z"
    }
   },
   "cell_type": "code",
   "source": [
    "key_values = [('Apple', 5), ('Mango', 10), ('Orange', 8)]\n",
    "\n",
    "print(dict(key_values))"
   ],
   "id": "86552df30744d9fb",
   "outputs": [
    {
     "name": "stdout",
     "output_type": "stream",
     "text": [
      "{'Apple': 5, 'Mango': 10, 'Orange': 8}\n"
     ]
    }
   ],
   "execution_count": 77
  },
  {
   "metadata": {
    "ExecuteTime": {
     "end_time": "2025-09-10T07:19:20.384469Z",
     "start_time": "2025-09-10T07:19:20.375290Z"
    }
   },
   "cell_type": "code",
   "source": [
    "students = {101: 'Shivam', 103: 'Satyam', 102: 'Piyush'}\n",
    "sorted_keys = sorted(students.keys())\n",
    "reversed = {}\n",
    "\n",
    "for key in sorted_keys:\n",
    "    reversed[key] = students[key]\n",
    "\n",
    "print(reversed)"
   ],
   "id": "d4d1b5da02b2642b",
   "outputs": [
    {
     "name": "stdout",
     "output_type": "stream",
     "text": [
      "{101: 'Shivam', 102: 'Piyush', 103: 'Satyam'}\n"
     ]
    }
   ],
   "execution_count": 90
  },
  {
   "metadata": {},
   "cell_type": "code",
   "outputs": [],
   "execution_count": null,
   "source": "",
   "id": "aca65a600b5fd111"
  },
  {
   "metadata": {
    "ExecuteTime": {
     "end_time": "2025-09-10T07:29:22.694690Z",
     "start_time": "2025-09-10T07:29:22.687598Z"
    }
   },
   "cell_type": "code",
   "source": [
    "numbers = {4, 1, 6, 7 , 4, 13}\n",
    "print(numbers)"
   ],
   "id": "b377f1e42a302406",
   "outputs": [
    {
     "name": "stdout",
     "output_type": "stream",
     "text": [
      "{1, 4, 6, 7, 13}\n"
     ]
    }
   ],
   "execution_count": 99
  },
  {
   "metadata": {
    "ExecuteTime": {
     "end_time": "2025-09-10T07:29:24.276276Z",
     "start_time": "2025-09-10T07:29:24.268976Z"
    }
   },
   "cell_type": "code",
   "source": [
    "numbers.remove(4)\n",
    "print(numbers)\n",
    "\n",
    "numbers.pop()\n",
    "print(numbers)"
   ],
   "id": "a706ea31fe5f3cba",
   "outputs": [
    {
     "name": "stdout",
     "output_type": "stream",
     "text": [
      "{1, 6, 7, 13}\n",
      "{6, 7, 13}\n"
     ]
    }
   ],
   "execution_count": 100
  },
  {
   "metadata": {
    "ExecuteTime": {
     "end_time": "2025-09-10T07:40:27.781274Z",
     "start_time": "2025-09-10T07:40:27.772468Z"
    }
   },
   "cell_type": "code",
   "source": [
    "\n",
    "numbers1 = {1, 2, 3}\n",
    "numbers2 = {1, 2, 3, 4, 5}\n",
    "\n",
    "print(numbers2.difference(numbers1))\n",
    "\n",
    "numbers2.difference_update(numbers1)\n",
    "print(numbers1)\n",
    "print(numbers2)"
   ],
   "id": "e18d6101f6aa0b95",
   "outputs": [
    {
     "name": "stdout",
     "output_type": "stream",
     "text": [
      "{4, 5}\n",
      "{1, 2, 3}\n",
      "{4, 5}\n"
     ]
    }
   ],
   "execution_count": 107
  },
  {
   "metadata": {
    "ExecuteTime": {
     "end_time": "2025-09-10T07:41:59.896029Z",
     "start_time": "2025-09-10T07:41:59.887425Z"
    }
   },
   "cell_type": "code",
   "source": [
    "\n",
    "numbers1 = {1, 2, 3}\n",
    "numbers2 = {1, 2, 3, 4, 5}\n",
    "\n",
    "print(numbers1.intersection(numbers2))\n",
    "\n",
    "numbers2.intersection_update(numbers1)\n",
    "\n",
    "print(numbers1)\n",
    "print(numbers2)"
   ],
   "id": "1dc9396ecf56b87f",
   "outputs": [
    {
     "name": "stdout",
     "output_type": "stream",
     "text": [
      "{1, 2, 3}\n",
      "{1, 2, 3}\n",
      "{1, 2, 3}\n"
     ]
    }
   ],
   "execution_count": 109
  },
  {
   "metadata": {
    "ExecuteTime": {
     "end_time": "2025-09-10T07:42:44.720249Z",
     "start_time": "2025-09-10T07:42:44.710679Z"
    }
   },
   "cell_type": "code",
   "source": [
    "numbers1 = {1, 2, 3}\n",
    "numbers2 = {1, 2, 3, 4, 5}\n",
    "\n",
    "print(numbers1.issubset(numbers2))\n",
    "print(numbers2.issuperset(numbers1))"
   ],
   "id": "325db632dc0432c1",
   "outputs": [
    {
     "name": "stdout",
     "output_type": "stream",
     "text": [
      "True\n",
      "True\n"
     ]
    }
   ],
   "execution_count": 111
  },
  {
   "metadata": {
    "ExecuteTime": {
     "end_time": "2025-09-10T08:15:39.482975Z",
     "start_time": "2025-09-10T08:15:39.475201Z"
    }
   },
   "cell_type": "code",
   "source": [
    "\n",
    "text = 'The quick brown fox jumps over the lazy dog'\n",
    "letters = 'abcdefghijklmnopqrstuvwxyz'\n",
    "isPangram = True\n",
    "for letter in letters:\n",
    "    if letter not in text:\n",
    "        isPangram = False\n",
    "\n",
    "print(isPangram)"
   ],
   "id": "765a22795dee1ebd",
   "outputs": [
    {
     "name": "stdout",
     "output_type": "stream",
     "text": [
      "True\n"
     ]
    }
   ],
   "execution_count": 124
  },
  {
   "metadata": {
    "ExecuteTime": {
     "end_time": "2025-09-10T08:17:28.771381Z",
     "start_time": "2025-09-10T08:17:28.764105Z"
    }
   },
   "cell_type": "code",
   "source": [
    "text = 'The quick brown fox jumps over the lazy dog!'\n",
    "unique_chars = set(text)\n",
    "\n",
    "print(unique_chars)"
   ],
   "id": "37eca56465fe3d82",
   "outputs": [
    {
     "name": "stdout",
     "output_type": "stream",
     "text": [
      "{'h', 'q', 'e', 'i', 'm', 'w', 'v', 'p', 'g', 's', 'o', 'k', 'x', 'u', 'y', ' ', 'j', 'd', 'l', 'b', 'f', 'n', 'c', '!', 't', 'a', 'T', 'r', 'z'}\n"
     ]
    }
   ],
   "execution_count": 129
  },
  {
   "metadata": {},
   "cell_type": "code",
   "outputs": [],
   "execution_count": null,
   "source": [
    "\n",
    "cipher_key = {'a':'n', 'b':'o', 'c':'p', 'd':'q', 'e':'r', 'f':'s', 'g':'t', 'h':'u', 'i':'v', 'j':'w', 'k':'x', 'l':'y', 'm':'z', 'n':'a','o':'b', 'p':'c', 'q':'d', 'r':'e', 's':'f', 't':'g', 'u':'h', 'v':'i', 'w':'j', 'x':'k', 'y':'l', 'z':'m', 'A':'N', 'B':'O', 'C':'P', 'D':'Q','E':'R', 'F':'S', 'G':'T', 'H':'U', 'I':'V', 'J':'W', 'K':'X', 'L':'Y', 'M':'Z', 'N':'A', 'O':'B', 'P':'C', 'Q':'D', 'R':'E', 'S':'F', 'T':'G', 'U':'H', 'V':'I', 'W':'J', 'X':'K', 'Y':'L', 'Z':'M'}\n",
    "\n",
    "text = 'abcd ABCD'\n",
    "encoded = []\n",
    "\n",
    "for char in text:\n",
    "    if not char.isalpha():\n",
    "        encoded.append(char)\n",
    "\n",
    "    else:\n",
    "        encoded.append(cipher_key.get(char))\n",
    "\n",
    "encoded = ''.join(encoded)\n",
    "print(encoded)\n",
    "\n",
    "decoded = []\n",
    "for char in encoded:\n",
    "    if not char.isalpha():\n",
    "        decoded.append(char)\n",
    "\n",
    "    else:\n",
    "        decoded.append(cipher_key.get(char))\n",
    "\n",
    "decoded = ''.join(decoded)\n",
    "print(decoded)\n"
   ],
   "id": "2b2d0e052219605b"
  },
  {
   "metadata": {
    "ExecuteTime": {
     "end_time": "2025-09-10T09:22:00.692537Z",
     "start_time": "2025-09-10T09:22:00.682284Z"
    }
   },
   "cell_type": "code",
   "source": [
    "words = ['abc','bda','dai','dbda','ai','by','www']\n",
    "\n",
    "key_values = {}\n",
    "\n",
    "for word in words:\n",
    "    if word[0] not in key_values:\n",
    "        values = []\n",
    "        values.append(word)\n",
    "        key_values[word[0]] = values\n",
    "\n",
    "    else:\n",
    "        key_values[word[0]].append(word)\n",
    "\n",
    "print(key_values)\n"
   ],
   "id": "26f566be7e786131",
   "outputs": [
    {
     "name": "stdout",
     "output_type": "stream",
     "text": [
      "{'a': ['abc', 'ai'], 'b': ['bda', 'by'], 'd': ['dai', 'dbda'], 'w': ['www']}\n"
     ]
    }
   ],
   "execution_count": 133
  },
  {
   "metadata": {
    "ExecuteTime": {
     "end_time": "2025-09-10T10:38:19.054173Z",
     "start_time": "2025-09-10T10:38:19.043446Z"
    }
   },
   "cell_type": "code",
   "source": [
    "\n",
    "key_values = {1: 'A', 2: 'B', 3: 'C', 4: 'A',5:'A'}\n",
    "\n",
    "print(key_values)\n",
    "\n",
    "keys = set(key_values.values())\n",
    "inverted = dict.fromkeys(keys)\n",
    "\n",
    "print(inverted)\n",
    "\n",
    "print(keys)\n",
    "\n",
    "for key, value in key_values.items():\n",
    "    if inverted[value] is None:\n",
    "        inverted[value] = key\n",
    "    else:\n",
    "        values = []\n",
    "        values.append(inverted[value])\n",
    "        values.append(key)\n",
    "        inverted[value] = values\n",
    "\n",
    "print(inverted)"
   ],
   "id": "563e22687c4a29db",
   "outputs": [
    {
     "name": "stdout",
     "output_type": "stream",
     "text": [
      "{1: 'A', 2: 'B', 3: 'C', 4: 'A', 5: 'A'}\n",
      "{'C': None, 'B': None, 'A': None}\n",
      "{'C', 'B', 'A'}\n",
      "{'C': 3, 'B': 2, 'A': [[1, 4], 5]}\n"
     ]
    }
   ],
   "execution_count": 146
  },
  {
   "metadata": {},
   "cell_type": "code",
   "outputs": [],
   "execution_count": null,
   "source": "",
   "id": "ac735b316b1c8998"
  }
 ],
 "metadata": {
  "kernelspec": {
   "display_name": "Python 3",
   "language": "python",
   "name": "python3"
  },
  "language_info": {
   "codemirror_mode": {
    "name": "ipython",
    "version": 2
   },
   "file_extension": ".py",
   "mimetype": "text/x-python",
   "name": "python",
   "nbconvert_exporter": "python",
   "pygments_lexer": "ipython2",
   "version": "2.7.6"
  }
 },
 "nbformat": 4,
 "nbformat_minor": 5
}
