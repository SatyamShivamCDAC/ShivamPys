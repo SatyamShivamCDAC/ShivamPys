{
 "cells": [
  {
   "cell_type": "code",
   "id": "initial_id",
   "metadata": {
    "collapsed": true,
    "ExecuteTime": {
     "end_time": "2025-09-09T08:10:51.534390Z",
     "start_time": "2025-09-09T08:10:51.276088Z"
    }
   },
   "source": [
    "# List: comma-separated collection of data enclose in [] (square brackets)\n",
    "# indexed 0 length of list\n",
    "# ordered\n",
    "# duplication is allowed\n",
    "\n",
    "numbers = [10, 20, 30, 40, 50]\n",
    "print(numbers[0])\n",
    "print(numbers[1])\n",
    "print(numbers[2])\n",
    "print(numbers[3])\n",
    "print(numbers[4])\n",
    "print(numbers[5])"
   ],
   "outputs": [
    {
     "name": "stdout",
     "output_type": "stream",
     "text": [
      "10\n",
      "20\n",
      "30\n",
      "40\n",
      "50\n"
     ]
    },
    {
     "ename": "IndexError",
     "evalue": "list index out of range",
     "output_type": "error",
     "traceback": [
      "\u001B[31m---------------------------------------------------------------------------\u001B[39m",
      "\u001B[31mIndexError\u001B[39m                                Traceback (most recent call last)",
      "\u001B[36mCell\u001B[39m\u001B[36m \u001B[39m\u001B[32mIn[1]\u001B[39m\u001B[32m, line 12\u001B[39m\n\u001B[32m     10\u001B[39m \u001B[38;5;28mprint\u001B[39m(numbers[\u001B[32m3\u001B[39m])\n\u001B[32m     11\u001B[39m \u001B[38;5;28mprint\u001B[39m(numbers[\u001B[32m4\u001B[39m])\n\u001B[32m---> \u001B[39m\u001B[32m12\u001B[39m \u001B[38;5;28mprint\u001B[39m(\u001B[43mnumbers\u001B[49m\u001B[43m[\u001B[49m\u001B[32;43m5\u001B[39;49m\u001B[43m]\u001B[49m)\n",
      "\u001B[31mIndexError\u001B[39m: list index out of range"
     ]
    }
   ],
   "execution_count": 1
  },
  {
   "metadata": {
    "ExecuteTime": {
     "end_time": "2025-09-09T08:12:39.031799Z",
     "start_time": "2025-09-09T08:12:39.022356Z"
    }
   },
   "cell_type": "code",
   "source": [
    "numbers = [10, 20, 30, 40, 50]\n",
    "print(len(numbers))\n",
    "\n",
    "for i in range(len(numbers)):\n",
    "    print(numbers[i])\n",
    "\n",
    "for number in numbers:\n",
    "    print(number)"
   ],
   "id": "90ef87dddf931b73",
   "outputs": [
    {
     "name": "stdout",
     "output_type": "stream",
     "text": [
      "5\n",
      "10\n",
      "20\n",
      "30\n",
      "40\n",
      "50\n",
      "10\n",
      "20\n",
      "30\n",
      "40\n",
      "50\n"
     ]
    }
   ],
   "execution_count": 5
  },
  {
   "metadata": {},
   "cell_type": "code",
   "outputs": [],
   "execution_count": null,
   "source": "",
   "id": "6c2c7746e32fdb22"
  }
 ],
 "metadata": {
  "kernelspec": {
   "display_name": "Python 3",
   "language": "python",
   "name": "python3"
  },
  "language_info": {
   "codemirror_mode": {
    "name": "ipython",
    "version": 2
   },
   "file_extension": ".py",
   "mimetype": "text/x-python",
   "name": "python",
   "nbconvert_exporter": "python",
   "pygments_lexer": "ipython2",
   "version": "2.7.6"
  }
 },
 "nbformat": 4,
 "nbformat_minor": 5
}
